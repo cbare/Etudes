{
 "cells": [
  {
   "cell_type": "markdown",
   "id": "a495e4d2",
   "metadata": {},
   "source": [
    "# Effective Pandas\n",
    "\n",
    "Following along with a [talk][1] by Matt Harrison.\n",
    "\n",
    "[1]: https://www.youtube.com/watch?v=zgbUk90aQ6A"
   ]
  },
  {
   "cell_type": "code",
   "execution_count": 1,
   "id": "e2aa116b",
   "metadata": {},
   "outputs": [],
   "source": [
    "import sys"
   ]
  },
  {
   "cell_type": "code",
   "execution_count": 2,
   "id": "75402c79",
   "metadata": {},
   "outputs": [
    {
     "data": {
      "text/plain": [
       "'3.9.7 (default, Sep  3 2021, 12:37:55) \\n[Clang 12.0.5 (clang-1205.0.22.9)]'"
      ]
     },
     "execution_count": 2,
     "metadata": {},
     "output_type": "execute_result"
    }
   ],
   "source": [
    "sys.version"
   ]
  },
  {
   "cell_type": "code",
   "execution_count": 3,
   "id": "d18f9f45",
   "metadata": {},
   "outputs": [],
   "source": [
    "%matplotlib inline\n",
    "from IPython.display import display\n",
    "import numpy as np\n",
    "import pandas as pd"
   ]
  },
  {
   "cell_type": "code",
   "execution_count": 70,
   "id": "f4d48047",
   "metadata": {},
   "outputs": [],
   "source": [
    "import matplotlib.pyplot as plt\n",
    "import seaborn as sns\n",
    "plt.style.use('seaborn')"
   ]
  },
  {
   "cell_type": "code",
   "execution_count": 5,
   "id": "5b5e1bff",
   "metadata": {},
   "outputs": [
    {
     "data": {
      "text/plain": [
       "'1.3.1'"
      ]
     },
     "execution_count": 5,
     "metadata": {},
     "output_type": "execute_result"
    }
   ],
   "source": [
    "pd.__version__"
   ]
  },
  {
   "cell_type": "code",
   "execution_count": 33,
   "id": "f8a6443b",
   "metadata": {},
   "outputs": [],
   "source": [
    "pd.options.display.min_rows = 20\n",
    "pd.options.display.max_rows = 100"
   ]
  },
  {
   "cell_type": "code",
   "execution_count": 7,
   "id": "c150e291",
   "metadata": {},
   "outputs": [
    {
     "name": "stderr",
     "output_type": "stream",
     "text": [
      "/usr/local/lib/python3.9/site-packages/IPython/core/interactiveshell.py:3441: DtypeWarning: Columns (68,70,71,72,73,74,76,79) have mixed types.Specify dtype option on import or set low_memory=False.\n",
      "  exec(code_obj, self.user_global_ns, self.user_ns)\n"
     ]
    }
   ],
   "source": [
    "autos = pd.read_csv(\"https://github.com/mattharrison/datasets/raw/master/data/vehicles.csv.zip\")"
   ]
  },
  {
   "cell_type": "code",
   "execution_count": 8,
   "id": "92e98586",
   "metadata": {},
   "outputs": [
    {
     "data": {
      "text/plain": [
       "(41144, 83)"
      ]
     },
     "execution_count": 8,
     "metadata": {},
     "output_type": "execute_result"
    }
   ],
   "source": [
    "autos.shape"
   ]
  },
  {
   "cell_type": "code",
   "execution_count": 9,
   "id": "d4741246",
   "metadata": {},
   "outputs": [
    {
     "data": {
      "text/plain": [
       "Index(['barrels08', 'barrelsA08', 'charge120', 'charge240', 'city08',\n",
       "       'city08U', 'cityA08', 'cityA08U', 'cityCD', 'cityE', 'cityUF', 'co2',\n",
       "       'co2A', 'co2TailpipeAGpm', 'co2TailpipeGpm', 'comb08', 'comb08U',\n",
       "       'combA08', 'combA08U', 'combE', 'combinedCD', 'combinedUF', 'cylinders',\n",
       "       'displ', 'drive', 'engId', 'eng_dscr', 'feScore', 'fuelCost08',\n",
       "       'fuelCostA08', 'fuelType', 'fuelType1', 'ghgScore', 'ghgScoreA',\n",
       "       'highway08', 'highway08U', 'highwayA08', 'highwayA08U', 'highwayCD',\n",
       "       'highwayE', 'highwayUF', 'hlv', 'hpv', 'id', 'lv2', 'lv4', 'make',\n",
       "       'model', 'mpgData', 'phevBlended', 'pv2', 'pv4', 'range', 'rangeCity',\n",
       "       'rangeCityA', 'rangeHwy', 'rangeHwyA', 'trany', 'UCity', 'UCityA',\n",
       "       'UHighway', 'UHighwayA', 'VClass', 'year', 'youSaveSpend', 'guzzler',\n",
       "       'trans_dscr', 'tCharger', 'sCharger', 'atvType', 'fuelType2', 'rangeA',\n",
       "       'evMotor', 'mfrCode', 'c240Dscr', 'charge240b', 'c240bDscr',\n",
       "       'createdOn', 'modifiedOn', 'startStop', 'phevCity', 'phevHwy',\n",
       "       'phevComb'],\n",
       "      dtype='object')"
      ]
     },
     "execution_count": 9,
     "metadata": {},
     "output_type": "execute_result"
    }
   ],
   "source": [
    "autos.columns"
   ]
  },
  {
   "cell_type": "code",
   "execution_count": 34,
   "id": "37911fef",
   "metadata": {},
   "outputs": [
    {
     "data": {
      "text/plain": [
       "barrels08          float64\n",
       "barrelsA08         float64\n",
       "charge120          float64\n",
       "charge240          float64\n",
       "city08               int64\n",
       "city08U            float64\n",
       "cityA08              int64\n",
       "cityA08U           float64\n",
       "cityCD             float64\n",
       "cityE              float64\n",
       "cityUF             float64\n",
       "co2                  int64\n",
       "co2A                 int64\n",
       "co2TailpipeAGpm    float64\n",
       "co2TailpipeGpm     float64\n",
       "comb08               int64\n",
       "comb08U            float64\n",
       "combA08              int64\n",
       "combA08U           float64\n",
       "combE              float64\n",
       "combinedCD         float64\n",
       "combinedUF         float64\n",
       "cylinders          float64\n",
       "displ              float64\n",
       "drive               object\n",
       "engId                int64\n",
       "eng_dscr            object\n",
       "feScore              int64\n",
       "fuelCost08           int64\n",
       "fuelCostA08          int64\n",
       "fuelType            object\n",
       "fuelType1           object\n",
       "ghgScore             int64\n",
       "ghgScoreA            int64\n",
       "highway08            int64\n",
       "highway08U         float64\n",
       "highwayA08           int64\n",
       "highwayA08U        float64\n",
       "highwayCD          float64\n",
       "highwayE           float64\n",
       "highwayUF          float64\n",
       "hlv                  int64\n",
       "hpv                  int64\n",
       "id                   int64\n",
       "lv2                  int64\n",
       "lv4                  int64\n",
       "make                object\n",
       "model               object\n",
       "mpgData             object\n",
       "phevBlended           bool\n",
       "pv2                  int64\n",
       "pv4                  int64\n",
       "range                int64\n",
       "rangeCity          float64\n",
       "rangeCityA         float64\n",
       "rangeHwy           float64\n",
       "rangeHwyA          float64\n",
       "trany               object\n",
       "UCity              float64\n",
       "UCityA             float64\n",
       "UHighway           float64\n",
       "UHighwayA          float64\n",
       "VClass              object\n",
       "year                 int64\n",
       "youSaveSpend         int64\n",
       "guzzler             object\n",
       "trans_dscr          object\n",
       "tCharger            object\n",
       "sCharger            object\n",
       "atvType             object\n",
       "fuelType2           object\n",
       "rangeA              object\n",
       "evMotor             object\n",
       "mfrCode             object\n",
       "c240Dscr            object\n",
       "charge240b         float64\n",
       "c240bDscr           object\n",
       "createdOn           object\n",
       "modifiedOn          object\n",
       "startStop           object\n",
       "phevCity             int64\n",
       "phevHwy              int64\n",
       "phevComb             int64\n",
       "dtype: object"
      ]
     },
     "execution_count": 34,
     "metadata": {},
     "output_type": "execute_result"
    }
   ],
   "source": [
    "autos.dtypes"
   ]
  },
  {
   "cell_type": "code",
   "execution_count": 10,
   "id": "713110bc",
   "metadata": {},
   "outputs": [
    {
     "data": {
      "text/plain": [
       "68383393"
      ]
     },
     "execution_count": 10,
     "metadata": {},
     "output_type": "execute_result"
    }
   ],
   "source": [
    "autos.memory_usage(deep=True).sum()"
   ]
  },
  {
   "cell_type": "code",
   "execution_count": 11,
   "id": "1703081e",
   "metadata": {},
   "outputs": [],
   "source": [
    "cols = ['city08', 'comb08', 'highway08', 'cylinders', 'displ', 'drive', 'eng_dscr',\n",
    "    'fuelCost08', 'make', 'model', 'trany', 'range', 'createdOn', 'year']"
   ]
  },
  {
   "cell_type": "code",
   "execution_count": 12,
   "id": "98c16006",
   "metadata": {},
   "outputs": [
    {
     "data": {
      "text/plain": [
       "Index             128\n",
       "city08         329152\n",
       "comb08         329152\n",
       "highway08      329152\n",
       "cylinders      329152\n",
       "displ          329152\n",
       "drive         3028369\n",
       "eng_dscr      2135693\n",
       "fuelCost08     329152\n",
       "make          2606267\n",
       "model         2813134\n",
       "trany         2933276\n",
       "range          329152\n",
       "createdOn     3497240\n",
       "year           329152\n",
       "dtype: int64"
      ]
     },
     "execution_count": 12,
     "metadata": {},
     "output_type": "execute_result"
    }
   ],
   "source": [
    "autos[cols].memory_usage(deep=True)"
   ]
  },
  {
   "cell_type": "code",
   "execution_count": 13,
   "id": "cec3fb3e",
   "metadata": {},
   "outputs": [
    {
     "data": {
      "text/plain": [
       "19647323"
      ]
     },
     "execution_count": 13,
     "metadata": {},
     "output_type": "execute_result"
    }
   ],
   "source": [
    "autos[cols].memory_usage(deep=True).sum()"
   ]
  },
  {
   "cell_type": "code",
   "execution_count": 14,
   "id": "ac2d8bdf",
   "metadata": {},
   "outputs": [
    {
     "data": {
      "text/html": [
       "<div>\n",
       "<style scoped>\n",
       "    .dataframe tbody tr th:only-of-type {\n",
       "        vertical-align: middle;\n",
       "    }\n",
       "\n",
       "    .dataframe tbody tr th {\n",
       "        vertical-align: top;\n",
       "    }\n",
       "\n",
       "    .dataframe thead th {\n",
       "        text-align: right;\n",
       "    }\n",
       "</style>\n",
       "<table border=\"1\" class=\"dataframe\">\n",
       "  <thead>\n",
       "    <tr style=\"text-align: right;\">\n",
       "      <th></th>\n",
       "      <th>city08</th>\n",
       "      <th>comb08</th>\n",
       "      <th>highway08</th>\n",
       "      <th>fuelCost08</th>\n",
       "      <th>range</th>\n",
       "      <th>year</th>\n",
       "    </tr>\n",
       "  </thead>\n",
       "  <tbody>\n",
       "    <tr>\n",
       "      <th>count</th>\n",
       "      <td>41144.000000</td>\n",
       "      <td>41144.000000</td>\n",
       "      <td>41144.000000</td>\n",
       "      <td>41144.000000</td>\n",
       "      <td>41144.000000</td>\n",
       "      <td>41144.000000</td>\n",
       "    </tr>\n",
       "    <tr>\n",
       "      <th>mean</th>\n",
       "      <td>18.369045</td>\n",
       "      <td>20.616396</td>\n",
       "      <td>24.504667</td>\n",
       "      <td>2362.335942</td>\n",
       "      <td>0.793506</td>\n",
       "      <td>2001.535266</td>\n",
       "    </tr>\n",
       "    <tr>\n",
       "      <th>std</th>\n",
       "      <td>7.905886</td>\n",
       "      <td>7.674535</td>\n",
       "      <td>7.730364</td>\n",
       "      <td>654.981925</td>\n",
       "      <td>13.041592</td>\n",
       "      <td>11.142414</td>\n",
       "    </tr>\n",
       "    <tr>\n",
       "      <th>min</th>\n",
       "      <td>6.000000</td>\n",
       "      <td>7.000000</td>\n",
       "      <td>9.000000</td>\n",
       "      <td>500.000000</td>\n",
       "      <td>0.000000</td>\n",
       "      <td>1984.000000</td>\n",
       "    </tr>\n",
       "    <tr>\n",
       "      <th>25%</th>\n",
       "      <td>15.000000</td>\n",
       "      <td>17.000000</td>\n",
       "      <td>20.000000</td>\n",
       "      <td>1900.000000</td>\n",
       "      <td>0.000000</td>\n",
       "      <td>1991.000000</td>\n",
       "    </tr>\n",
       "    <tr>\n",
       "      <th>50%</th>\n",
       "      <td>17.000000</td>\n",
       "      <td>20.000000</td>\n",
       "      <td>24.000000</td>\n",
       "      <td>2350.000000</td>\n",
       "      <td>0.000000</td>\n",
       "      <td>2002.000000</td>\n",
       "    </tr>\n",
       "    <tr>\n",
       "      <th>75%</th>\n",
       "      <td>20.000000</td>\n",
       "      <td>23.000000</td>\n",
       "      <td>28.000000</td>\n",
       "      <td>2700.000000</td>\n",
       "      <td>0.000000</td>\n",
       "      <td>2011.000000</td>\n",
       "    </tr>\n",
       "    <tr>\n",
       "      <th>max</th>\n",
       "      <td>150.000000</td>\n",
       "      <td>136.000000</td>\n",
       "      <td>124.000000</td>\n",
       "      <td>7400.000000</td>\n",
       "      <td>370.000000</td>\n",
       "      <td>2020.000000</td>\n",
       "    </tr>\n",
       "  </tbody>\n",
       "</table>\n",
       "</div>"
      ],
      "text/plain": [
       "             city08        comb08     highway08    fuelCost08         range  \\\n",
       "count  41144.000000  41144.000000  41144.000000  41144.000000  41144.000000   \n",
       "mean      18.369045     20.616396     24.504667   2362.335942      0.793506   \n",
       "std        7.905886      7.674535      7.730364    654.981925     13.041592   \n",
       "min        6.000000      7.000000      9.000000    500.000000      0.000000   \n",
       "25%       15.000000     17.000000     20.000000   1900.000000      0.000000   \n",
       "50%       17.000000     20.000000     24.000000   2350.000000      0.000000   \n",
       "75%       20.000000     23.000000     28.000000   2700.000000      0.000000   \n",
       "max      150.000000    136.000000    124.000000   7400.000000    370.000000   \n",
       "\n",
       "               year  \n",
       "count  41144.000000  \n",
       "mean    2001.535266  \n",
       "std       11.142414  \n",
       "min     1984.000000  \n",
       "25%     1991.000000  \n",
       "50%     2002.000000  \n",
       "75%     2011.000000  \n",
       "max     2020.000000  "
      ]
     },
     "execution_count": 14,
     "metadata": {},
     "output_type": "execute_result"
    }
   ],
   "source": [
    "autos[cols].select_dtypes(int).describe()"
   ]
  },
  {
   "cell_type": "code",
   "execution_count": 15,
   "id": "b527e166",
   "metadata": {},
   "outputs": [
    {
     "data": {
      "text/plain": [
       "count    40938.000000\n",
       "mean         5.717084\n",
       "std          1.755517\n",
       "min          2.000000\n",
       "25%          4.000000\n",
       "50%          6.000000\n",
       "75%          6.000000\n",
       "max         16.000000\n",
       "Name: cylinders, dtype: float64"
      ]
     },
     "execution_count": 15,
     "metadata": {},
     "output_type": "execute_result"
    }
   ],
   "source": [
    "autos.cylinders.describe()"
   ]
  },
  {
   "cell_type": "code",
   "execution_count": 16,
   "id": "a4a6233d",
   "metadata": {},
   "outputs": [
    {
     "data": {
      "text/plain": [
       "4.0     15938\n",
       "6.0     14284\n",
       "8.0      8801\n",
       "5.0       771\n",
       "12.0      626\n",
       "3.0       279\n",
       "NaN       206\n",
       "10.0      170\n",
       "2.0        59\n",
       "16.0       10\n",
       "Name: cylinders, dtype: int64"
      ]
     },
     "execution_count": 16,
     "metadata": {},
     "output_type": "execute_result"
    }
   ],
   "source": [
    "autos.cylinders.value_counts(dropna=False)"
   ]
  },
  {
   "cell_type": "code",
   "execution_count": 17,
   "id": "4c6c6f1d",
   "metadata": {},
   "outputs": [
    {
     "data": {
      "text/html": [
       "<div>\n",
       "<style scoped>\n",
       "    .dataframe tbody tr th:only-of-type {\n",
       "        vertical-align: middle;\n",
       "    }\n",
       "\n",
       "    .dataframe tbody tr th {\n",
       "        vertical-align: top;\n",
       "    }\n",
       "\n",
       "    .dataframe thead th {\n",
       "        text-align: right;\n",
       "    }\n",
       "</style>\n",
       "<table border=\"1\" class=\"dataframe\">\n",
       "  <thead>\n",
       "    <tr style=\"text-align: right;\">\n",
       "      <th></th>\n",
       "      <th>make</th>\n",
       "      <th>model</th>\n",
       "      <th>fuelType</th>\n",
       "      <th>cylinders</th>\n",
       "    </tr>\n",
       "  </thead>\n",
       "  <tbody>\n",
       "    <tr>\n",
       "      <th>7138</th>\n",
       "      <td>Nissan</td>\n",
       "      <td>Altra EV</td>\n",
       "      <td>Electricity</td>\n",
       "      <td>NaN</td>\n",
       "    </tr>\n",
       "    <tr>\n",
       "      <th>7139</th>\n",
       "      <td>Toyota</td>\n",
       "      <td>RAV4 EV</td>\n",
       "      <td>Electricity</td>\n",
       "      <td>NaN</td>\n",
       "    </tr>\n",
       "    <tr>\n",
       "      <th>8143</th>\n",
       "      <td>Toyota</td>\n",
       "      <td>RAV4 EV</td>\n",
       "      <td>Electricity</td>\n",
       "      <td>NaN</td>\n",
       "    </tr>\n",
       "    <tr>\n",
       "      <th>8144</th>\n",
       "      <td>Ford</td>\n",
       "      <td>Th!nk</td>\n",
       "      <td>Electricity</td>\n",
       "      <td>NaN</td>\n",
       "    </tr>\n",
       "    <tr>\n",
       "      <th>8146</th>\n",
       "      <td>Ford</td>\n",
       "      <td>Explorer USPS Electric</td>\n",
       "      <td>Electricity</td>\n",
       "      <td>NaN</td>\n",
       "    </tr>\n",
       "    <tr>\n",
       "      <th>8147</th>\n",
       "      <td>Nissan</td>\n",
       "      <td>Hyper-Mini</td>\n",
       "      <td>Electricity</td>\n",
       "      <td>NaN</td>\n",
       "    </tr>\n",
       "    <tr>\n",
       "      <th>9212</th>\n",
       "      <td>Toyota</td>\n",
       "      <td>RAV4 EV</td>\n",
       "      <td>Electricity</td>\n",
       "      <td>NaN</td>\n",
       "    </tr>\n",
       "    <tr>\n",
       "      <th>9213</th>\n",
       "      <td>Ford</td>\n",
       "      <td>Explorer USPS Electric</td>\n",
       "      <td>Electricity</td>\n",
       "      <td>NaN</td>\n",
       "    </tr>\n",
       "    <tr>\n",
       "      <th>10329</th>\n",
       "      <td>Toyota</td>\n",
       "      <td>RAV4 EV</td>\n",
       "      <td>Electricity</td>\n",
       "      <td>NaN</td>\n",
       "    </tr>\n",
       "    <tr>\n",
       "      <th>21413</th>\n",
       "      <td>Subaru</td>\n",
       "      <td>RX Turbo</td>\n",
       "      <td>Regular</td>\n",
       "      <td>NaN</td>\n",
       "    </tr>\n",
       "    <tr>\n",
       "      <th>...</th>\n",
       "      <td>...</td>\n",
       "      <td>...</td>\n",
       "      <td>...</td>\n",
       "      <td>...</td>\n",
       "    </tr>\n",
       "    <tr>\n",
       "      <th>34407</th>\n",
       "      <td>BYD</td>\n",
       "      <td>e6</td>\n",
       "      <td>Electricity</td>\n",
       "      <td>NaN</td>\n",
       "    </tr>\n",
       "    <tr>\n",
       "      <th>34408</th>\n",
       "      <td>Nissan</td>\n",
       "      <td>Leaf (62 kW-hr battery pack)</td>\n",
       "      <td>Electricity</td>\n",
       "      <td>NaN</td>\n",
       "    </tr>\n",
       "    <tr>\n",
       "      <th>34409</th>\n",
       "      <td>Nissan</td>\n",
       "      <td>Leaf SV/SL (62 kW-hr battery pack)</td>\n",
       "      <td>Electricity</td>\n",
       "      <td>NaN</td>\n",
       "    </tr>\n",
       "    <tr>\n",
       "      <th>34538</th>\n",
       "      <td>Audi</td>\n",
       "      <td>e-tron</td>\n",
       "      <td>Electricity</td>\n",
       "      <td>NaN</td>\n",
       "    </tr>\n",
       "    <tr>\n",
       "      <th>34561</th>\n",
       "      <td>Jaguar</td>\n",
       "      <td>I-Pace</td>\n",
       "      <td>Electricity</td>\n",
       "      <td>NaN</td>\n",
       "    </tr>\n",
       "    <tr>\n",
       "      <th>34563</th>\n",
       "      <td>Tesla</td>\n",
       "      <td>Model 3 Standard Range</td>\n",
       "      <td>Electricity</td>\n",
       "      <td>NaN</td>\n",
       "    </tr>\n",
       "    <tr>\n",
       "      <th>34564</th>\n",
       "      <td>Tesla</td>\n",
       "      <td>Model 3 Standard Range Plus</td>\n",
       "      <td>Electricity</td>\n",
       "      <td>NaN</td>\n",
       "    </tr>\n",
       "    <tr>\n",
       "      <th>34565</th>\n",
       "      <td>Tesla</td>\n",
       "      <td>Model S Long Range</td>\n",
       "      <td>Electricity</td>\n",
       "      <td>NaN</td>\n",
       "    </tr>\n",
       "    <tr>\n",
       "      <th>34566</th>\n",
       "      <td>Tesla</td>\n",
       "      <td>Model S Performance (19\" Wheels)</td>\n",
       "      <td>Electricity</td>\n",
       "      <td>NaN</td>\n",
       "    </tr>\n",
       "    <tr>\n",
       "      <th>34567</th>\n",
       "      <td>Tesla</td>\n",
       "      <td>Model S Performance (21\" Wheels)</td>\n",
       "      <td>Electricity</td>\n",
       "      <td>NaN</td>\n",
       "    </tr>\n",
       "  </tbody>\n",
       "</table>\n",
       "<p>206 rows × 4 columns</p>\n",
       "</div>"
      ],
      "text/plain": [
       "         make                               model     fuelType  cylinders\n",
       "7138   Nissan                            Altra EV  Electricity        NaN\n",
       "7139   Toyota                             RAV4 EV  Electricity        NaN\n",
       "8143   Toyota                             RAV4 EV  Electricity        NaN\n",
       "8144     Ford                               Th!nk  Electricity        NaN\n",
       "8146     Ford              Explorer USPS Electric  Electricity        NaN\n",
       "8147   Nissan                          Hyper-Mini  Electricity        NaN\n",
       "9212   Toyota                             RAV4 EV  Electricity        NaN\n",
       "9213     Ford              Explorer USPS Electric  Electricity        NaN\n",
       "10329  Toyota                             RAV4 EV  Electricity        NaN\n",
       "21413  Subaru                            RX Turbo      Regular        NaN\n",
       "...       ...                                 ...          ...        ...\n",
       "34407     BYD                                  e6  Electricity        NaN\n",
       "34408  Nissan        Leaf (62 kW-hr battery pack)  Electricity        NaN\n",
       "34409  Nissan  Leaf SV/SL (62 kW-hr battery pack)  Electricity        NaN\n",
       "34538    Audi                              e-tron  Electricity        NaN\n",
       "34561  Jaguar                              I-Pace  Electricity        NaN\n",
       "34563   Tesla              Model 3 Standard Range  Electricity        NaN\n",
       "34564   Tesla         Model 3 Standard Range Plus  Electricity        NaN\n",
       "34565   Tesla                  Model S Long Range  Electricity        NaN\n",
       "34566   Tesla    Model S Performance (19\" Wheels)  Electricity        NaN\n",
       "34567   Tesla    Model S Performance (21\" Wheels)  Electricity        NaN\n",
       "\n",
       "[206 rows x 4 columns]"
      ]
     },
     "execution_count": 17,
     "metadata": {},
     "output_type": "execute_result"
    }
   ],
   "source": [
    "(autos\n",
    " .query(\"cylinders.isna()\")\n",
    " [[\"make\", \"model\", \"fuelType\", \"cylinders\"]]\n",
    ")"
   ]
  },
  {
   "cell_type": "code",
   "execution_count": 18,
   "id": "6413245a",
   "metadata": {},
   "outputs": [
    {
     "data": {
      "text/plain": [
       "False    24012\n",
       "NaN      16153\n",
       "True       979\n",
       "Name: eng_dscr, dtype: int64"
      ]
     },
     "execution_count": 18,
     "metadata": {},
     "output_type": "execute_result"
    }
   ],
   "source": [
    "autos.eng_dscr.str.contains(\"GUZZLER\").value_counts(dropna=False)"
   ]
  },
  {
   "cell_type": "code",
   "execution_count": 19,
   "id": "515f61c9",
   "metadata": {},
   "outputs": [
    {
     "data": {
      "text/plain": [
       "NaN    38721\n",
       "G       1444\n",
       "T        964\n",
       "S         15\n",
       "Name: guzzler, dtype: int64"
      ]
     },
     "execution_count": 19,
     "metadata": {},
     "output_type": "execute_result"
    }
   ],
   "source": [
    "autos.guzzler.value_counts(dropna=False)"
   ]
  },
  {
   "cell_type": "code",
   "execution_count": 71,
   "id": "b57a62c6",
   "metadata": {},
   "outputs": [],
   "source": [
    "mpg_by_year = (autos\n",
    " [autos.fuelType.isin({'Regular', 'Premium', 'Gasoline or E85', 'Premium or E85', 'Midgrade'})]\n",
    " .groupby(\"year\")\n",
    " [\"city08\"]\n",
    " .mean()\n",
    ")"
   ]
  },
  {
   "cell_type": "code",
   "execution_count": 72,
   "id": "a6fd7ebb",
   "metadata": {},
   "outputs": [
    {
     "data": {
      "image/png": "[encoded data removed]",
      "text/plain": [
       "<Figure size 576x396 with 1 Axes>"
      ]
     },
     "metadata": {},
     "output_type": "display_data"
    }
   ],
   "source": [
    "plt.plot(mpg_by_year)\n",
    "plt.title(\"mpg of gas vehicles\")\n",
    "plt.show()"
   ]
  },
  {
   "cell_type": "code",
   "execution_count": 64,
   "id": "0e884067",
   "metadata": {},
   "outputs": [
    {
     "data": {
      "text/plain": [
       "Regular                        26447\n",
       "Premium                        11542\n",
       "Gasoline or E85                 1317\n",
       "Diesel                          1180\n",
       "Electricity                      203\n",
       "Premium or E85                   127\n",
       "Midgrade                         106\n",
       "CNG                               60\n",
       "Premium and Electricity           53\n",
       "Regular Gas and Electricity       41\n",
       "Premium Gas or Electricity        36\n",
       "Gasoline or natural gas           20\n",
       "Gasoline or propane                8\n",
       "Regular Gas or Electricity         4\n",
       "Name: fuelType, dtype: int64"
      ]
     },
     "execution_count": 64,
     "metadata": {},
     "output_type": "execute_result"
    }
   ],
   "source": [
    "autos.fuelType.value_counts()"
   ]
  },
  {
   "cell_type": "code",
   "execution_count": 65,
   "id": "d71a5d6d",
   "metadata": {},
   "outputs": [
    {
     "data": {
      "text/plain": [
       "4.0     15938\n",
       "6.0     14284\n",
       "8.0      8801\n",
       "5.0       771\n",
       "12.0      626\n",
       "3.0       279\n",
       "NaN       206\n",
       "10.0      170\n",
       "2.0        59\n",
       "16.0       10\n",
       "Name: cylinders, dtype: int64"
      ]
     },
     "execution_count": 65,
     "metadata": {},
     "output_type": "execute_result"
    }
   ],
   "source": [
    "autos.cylinders.value_counts(dropna=False)"
   ]
  },
  {
   "cell_type": "code",
   "execution_count": 66,
   "id": "0eea18a4",
   "metadata": {},
   "outputs": [
    {
     "data": {
      "text/plain": [
       "4     15938\n",
       "6     14284\n",
       "8      8801\n",
       "5       771\n",
       "12      626\n",
       "3       279\n",
       "10      170\n",
       "2        59\n",
       "16       10\n",
       "Name: cylinders, dtype: int64"
      ]
     },
     "execution_count": 66,
     "metadata": {},
     "output_type": "execute_result"
    }
   ],
   "source": [
    "autos.cylinders.dropna().astype(int).value_counts()"
   ]
  },
  {
   "cell_type": "code",
   "execution_count": 73,
   "id": "7a4a5e68",
   "metadata": {},
   "outputs": [],
   "source": [
    "mpg_by_year = (autos\n",
    " [autos.fuelType.isin({'Regular', 'Premium', 'Gasoline or E85', 'Premium or E85', 'Midgrade'}) &\n",
    "  autos.cylinders.isin({4,6,8})]\n",
    " [[\"year\", \"cylinders\", \"city08\"]]\n",
    " .pivot_table(index=\"year\", columns=\"cylinders\", values=\"city08\", aggfunc=np.mean)\n",
    ")"
   ]
  },
  {
   "cell_type": "code",
   "execution_count": 74,
   "id": "29018afb",
   "metadata": {},
   "outputs": [
    {
     "data": {
      "image/png": "[encoded data removed]",
      "text/plain": [
       "<Figure size 576x396 with 1 Axes>"
      ]
     },
     "metadata": {},
     "output_type": "display_data"
    }
   ],
   "source": [
    "plt.plot(mpg_by_year)\n",
    "plt.title(\"mpg of gas vehicles\")\n",
    "plt.legend(['4 cyl', '6 cyl', '8 cyl'])\n",
    "plt.show()"
   ]
  },
  {
   "cell_type": "code",
   "execution_count": 75,
   "id": "c13d056f",
   "metadata": {},
   "outputs": [
    {
     "data": {
      "text/plain": [
       "<AxesSubplot:title={'center':'mpg of gas vehicles by number of cylinders'}, xlabel='year'>"
      ]
     },
     "execution_count": 75,
     "metadata": {},
     "output_type": "execute_result"
    },
    {
     "data": {
      "image/png": "[encoded data removed]",
      "text/plain": [
       "<Figure size 576x396 with 1 Axes>"
      ]
     },
     "metadata": {},
     "output_type": "display_data"
    }
   ],
   "source": [
    "(autos\n",
    " [autos.fuelType.isin({'Regular', 'Premium', 'Gasoline or E85', 'Premium or E85', 'Midgrade'}) &\n",
    "  autos.cylinders.isin({4,6,8})]\n",
    " [[\"year\", \"cylinders\", \"city08\"]]\n",
    " .dropna()\n",
    " .assign(cylinders=lambda _df: _df.cylinders.astype(int))\n",
    " .pivot_table(index=\"year\", columns=\"cylinders\", values=\"city08\", aggfunc=np.mean)\n",
    " .plot(title=\"mpg of gas vehicles by number of cylinders\")\n",
    ")"
   ]
  },
  {
   "cell_type": "code",
   "execution_count": null,
   "id": "dbf780fc",
   "metadata": {},
   "outputs": [],
   "source": []
  },
  {
   "cell_type": "code",
   "execution_count": null,
   "id": "454315ad",
   "metadata": {},
   "outputs": [],
   "source": []
  }
 ],
 "metadata": {
  "kernelspec": {
   "display_name": "Python 3",
   "language": "python",
   "name": "python3"
  },
  "language_info": {
   "codemirror_mode": {
    "name": "ipython",
    "version": 3
   },
   "file_extension": ".py",
   "mimetype": "text/x-python",
   "name": "python",
   "nbconvert_exporter": "python",
   "pygments_lexer": "ipython3",
   "version": "3.9.7"
  }
 },
 "nbformat": 4,
 "nbformat_minor": 5
}
