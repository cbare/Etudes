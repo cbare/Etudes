{
 "cells": [
  {
   "cell_type": "markdown",
   "id": "6bd8c202",
   "metadata": {},
   "source": [
    "# Rational approximations of 𝝿\n",
    "\n",
    "The fractions 22/7 and 355/113 are good approximations of pi. Let's find more."
   ]
  },
  {
   "cell_type": "code",
   "execution_count": 1,
   "id": "54362db7",
   "metadata": {},
   "outputs": [],
   "source": [
    "from math import pi"
   ]
  },
  {
   "cell_type": "code",
   "execution_count": 2,
   "id": "7559c1ca",
   "metadata": {},
   "outputs": [
    {
     "data": {
      "text/plain": [
       "3.141592653589793"
      ]
     },
     "execution_count": 2,
     "metadata": {},
     "output_type": "execute_result"
    }
   ],
   "source": [
    "pi"
   ]
  },
  {
   "cell_type": "markdown",
   "id": "239ee536",
   "metadata": {},
   "source": [
    "Spoiler alert: Who knew that Python floats have this handy method? We won't do better than this."
   ]
  },
  {
   "cell_type": "code",
   "execution_count": 3,
   "id": "1f1b0115",
   "metadata": {},
   "outputs": [
    {
     "data": {
      "text/plain": [
       "(884279719003555, 281474976710656)"
      ]
     },
     "execution_count": 3,
     "metadata": {},
     "output_type": "execute_result"
    }
   ],
   "source": [
    "pi.as_integer_ratio()"
   ]
  },
  {
   "cell_type": "code",
   "execution_count": 4,
   "id": "a35cb37e",
   "metadata": {},
   "outputs": [
    {
     "data": {
      "text/plain": [
       "'3.141592653589793115997963468544185161590576171875'"
      ]
     },
     "execution_count": 4,
     "metadata": {},
     "output_type": "execute_result"
    }
   ],
   "source": [
    "f\"{884279719003555/281474976710656:0.48f}\""
   ]
  },
  {
   "cell_type": "markdown",
   "id": "0b2b9f79",
   "metadata": {},
   "source": [
    "We'll need to go to larger and larger denominators to get more accuracy. Let's define success as finding an approximation that gets more digits right than preceeding approximations. 22/7 gets 3 digits correct. 355/13 gets 7, which is more than enough for most practical purposes."
   ]
  },
  {
   "cell_type": "code",
   "execution_count": 5,
   "id": "60c6987e",
   "metadata": {},
   "outputs": [
    {
     "data": {
      "text/plain": [
       "3.142857142857143"
      ]
     },
     "execution_count": 5,
     "metadata": {},
     "output_type": "execute_result"
    }
   ],
   "source": [
    "22/7"
   ]
  },
  {
   "cell_type": "code",
   "execution_count": 6,
   "id": "660d9d3b",
   "metadata": {},
   "outputs": [
    {
     "data": {
      "text/plain": [
       "3.1415929203539825"
      ]
     },
     "execution_count": 6,
     "metadata": {},
     "output_type": "execute_result"
    }
   ],
   "source": [
    "355/113"
   ]
  },
  {
   "cell_type": "markdown",
   "id": "59aca02b",
   "metadata": {},
   "source": [
    "So, let's make it easy to count how many digits match."
   ]
  },
  {
   "cell_type": "code",
   "execution_count": 7,
   "id": "c56fd1c2",
   "metadata": {},
   "outputs": [],
   "source": [
    "def digits_match(a,b):\n",
    "    d = abs(b-a)\n",
    "    if d==0.0:\n",
    "        return len(str(b))-1\n",
    "    i = 0\n",
    "    p=1\n",
    "    while d < p:\n",
    "        i += 1\n",
    "        p /= 10\n",
    "    return i"
   ]
  },
  {
   "cell_type": "code",
   "execution_count": 8,
   "id": "5b3e258c",
   "metadata": {},
   "outputs": [
    {
     "data": {
      "text/plain": [
       "3"
      ]
     },
     "execution_count": 8,
     "metadata": {},
     "output_type": "execute_result"
    }
   ],
   "source": [
    "digits_match(22/7, pi)"
   ]
  },
  {
   "cell_type": "code",
   "execution_count": 9,
   "id": "f1927b7e",
   "metadata": {},
   "outputs": [
    {
     "data": {
      "text/plain": [
       "7"
      ]
     },
     "execution_count": 9,
     "metadata": {},
     "output_type": "execute_result"
    }
   ],
   "source": [
    "digits_match(355/113, pi)"
   ]
  },
  {
   "cell_type": "code",
   "execution_count": 10,
   "id": "4e969715",
   "metadata": {},
   "outputs": [
    {
     "name": "stdout",
     "output_type": "stream",
     "text": [
      "                    22/7 = 3.142857142857143           3 err=0.0012644892673496777035780\n",
      "                  201/64 = 3.140625                    4 err=0.0009676535897931159979635\n",
      "                 333/106 = 3.141509433962264           5 err=0.0000832196275291074982761\n",
      "                 355/113 = 3.1415929203539825          7 err=0.0000002667641894049666007\n",
      "             75948/24175 = 3.1415925542916234          8 err=0.0000000992981696867900610\n",
      "            100798/32085 = 3.1415926445379463          9 err=0.0000000090518468276457043\n",
      "            103993/33102 = 3.1415926530119025         10 err=0.0000000005778906242426274\n",
      "            312689/99532 = 3.1415926536189365         11 err=0.0000000000291433543964104\n",
      "           833719/265381 = 3.141592653581078          12 err=0.0000000000087152507433075\n",
      "         4272943/1360120 = 3.141592653589389          13 err=0.0000000000004041211809636\n",
      "         5419351/1725033 = 3.1415926535898153         14 err=0.0000000000000222044604925\n",
      "       58466453/18610450 = 3.1415926535897842         15 err=0.0000000000000088817841970\n",
      "       80143857/25510582 = 3.1415926535897927         16 err=0.0000000000000004440892099\n",
      "CPU times: user 50.9 s, sys: 34.2 ms, total: 51 s\n",
      "Wall time: 51 s\n"
     ]
    }
   ],
   "source": [
    "%%time\n",
    "\n",
    "best_so_far = 1\n",
    "\n",
    "for den in range(7,26_000_000):\n",
    "    # numerator that is closest to but less than pi\n",
    "    # or maybe the next higher numerator is better?\n",
    "    for i in range(0,2):\n",
    "        num = int(den*pi) + i\n",
    "        pi_approx = num/den\n",
    "        digits = digits_match(pi_approx, pi)\n",
    "        if digits > best_so_far:\n",
    "            best_so_far = digits\n",
    "            frac = f\"{num}/{den}\"\n",
    "            print(f\"{frac:>24} = {pi_approx:<25} {digits:>3} err={abs(pi_approx-pi):0.25f}\")"
   ]
  },
  {
   "cell_type": "code",
   "execution_count": null,
   "id": "a127f7fd",
   "metadata": {},
   "outputs": [],
   "source": []
  }
 ],
 "metadata": {
  "kernelspec": {
   "display_name": "Python 3",
   "language": "python",
   "name": "python3"
  },
  "language_info": {
   "codemirror_mode": {
    "name": "ipython",
    "version": 3
   },
   "file_extension": ".py",
   "mimetype": "text/x-python",
   "name": "python",
   "nbconvert_exporter": "python",
   "pygments_lexer": "ipython3",
   "version": "3.9.5"
  }
 },
 "nbformat": 4,
 "nbformat_minor": 5
}
