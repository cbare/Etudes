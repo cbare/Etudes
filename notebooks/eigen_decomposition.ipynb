{
 "cells": [
  {
   "cell_type": "markdown",
   "id": "6922fb1a-ab02-4b0e-8362-4a3fb2e2505d",
   "metadata": {},
   "source": [
    "# Decomposing a square matrix into eigenvectors and eigenvalues\n",
    "\n"
   ]
  },
  {
   "cell_type": "code",
   "execution_count": 1,
   "id": "6e077732-bdb8-4a2f-a14b-ccb535f4a5bb",
   "metadata": {},
   "outputs": [],
   "source": [
    "import numpy as np"
   ]
  },
  {
   "cell_type": "code",
   "execution_count": 2,
   "id": "16f5487b-ff72-47bb-90d9-60f1c0ac4b3e",
   "metadata": {},
   "outputs": [],
   "source": [
    "rng = np.random.default_rng()"
   ]
  },
  {
   "cell_type": "markdown",
   "id": "0031aebd-032a-4ec3-a66a-ec21209029be",
   "metadata": {},
   "source": [
    "## Create random eigenvectors\n",
    "\n",
    "We'll start with a random 3x3 matrix, **X**, and compute its qr factorization, where q is orthonormal and r is upper-triangular. We'll use Q for our eigenvectors."
   ]
  },
  {
   "cell_type": "code",
   "execution_count": 3,
   "id": "391f70f1-dce1-41d8-968a-ae87da0f77b2",
   "metadata": {},
   "outputs": [
    {
     "name": "stdout",
     "output_type": "stream",
     "text": [
      "[[-0.68673821  1.63697258  0.1670926 ]\n",
      " [-0.70893234 -0.92882861  0.35372811]\n",
      " [ 0.09394488  1.66740759  0.24218231]]\n"
     ]
    }
   ],
   "source": [
    "X = np.random.normal(size=(3,3))\n",
    "print(X)"
   ]
  },
  {
   "cell_type": "code",
   "execution_count": 4,
   "id": "f69aace9-dd8c-4ad4-9cf4-909e245c4f71",
   "metadata": {},
   "outputs": [
    {
     "name": "stdout",
     "output_type": "stream",
     "text": [
      "[[-0.6926439   0.56954586 -0.44256292]\n",
      " [-0.7150289  -0.46158967  0.52504156]\n",
      " [ 0.09475277  0.68011212  0.72695902]]\n"
     ]
    }
   ],
   "source": [
    "Q, R = np.linalg.qr(X)\n",
    "print(Q)"
   ]
  },
  {
   "cell_type": "markdown",
   "id": "a4895b56-a693-4b09-9b8e-097a48d2382e",
   "metadata": {},
   "source": [
    "### Q should be invertable, but let's make sure"
   ]
  },
  {
   "cell_type": "code",
   "execution_count": 5,
   "id": "b8384a68-702c-49e8-aa7a-525fe2d3f74d",
   "metadata": {},
   "outputs": [
    {
     "data": {
      "text/plain": [
       "1.0000000000000002"
      ]
     },
     "execution_count": 5,
     "metadata": {},
     "output_type": "execute_result"
    }
   ],
   "source": [
    "np.linalg.det(Q)"
   ]
  },
  {
   "cell_type": "code",
   "execution_count": 6,
   "id": "b93c7cfc-0a22-42cc-bdc9-44f7d21384c0",
   "metadata": {},
   "outputs": [
    {
     "data": {
      "text/plain": [
       "array([[-0.6926439 , -0.7150289 ,  0.09475277],\n",
       "       [ 0.56954586, -0.46158967,  0.68011212],\n",
       "       [-0.44256292,  0.52504156,  0.72695902]])"
      ]
     },
     "execution_count": 6,
     "metadata": {},
     "output_type": "execute_result"
    }
   ],
   "source": [
    "np.linalg.inv(Q)"
   ]
  },
  {
   "cell_type": "markdown",
   "id": "c66853fe-4052-4351-8ace-6f6603ea55b6",
   "metadata": {},
   "source": [
    "$ \\mathbf{Q}\\mathbf{Q}^{-1} = \\mathbf{I}$"
   ]
  },
  {
   "cell_type": "code",
   "execution_count": 7,
   "id": "1b30e0db-0457-414f-b9c2-6654c196a28b",
   "metadata": {},
   "outputs": [
    {
     "data": {
      "text/plain": [
       "array([[ 1.00000000e+00,  7.03180501e-17, -1.47357678e-16],\n",
       "       [-2.51704873e-17,  1.00000000e+00,  1.19005188e-17],\n",
       "       [ 1.06261237e-16, -3.57143360e-17,  1.00000000e+00]])"
      ]
     },
     "execution_count": 7,
     "metadata": {},
     "output_type": "execute_result"
    }
   ],
   "source": [
    "Q @ np.linalg.inv(Q)"
   ]
  },
  {
   "cell_type": "markdown",
   "id": "b130471f-84ec-4963-80e7-9d12207a66fa",
   "metadata": {},
   "source": [
    "## Create eigenvalues\n",
    "\n",
    "Let's create a vector of eigenvalues in decreasing order: [a, a/2, a/3] = [6/11, 3/11, 2/11]. "
   ]
  },
  {
   "cell_type": "code",
   "execution_count": 8,
   "id": "e507b853-594c-4c2f-be8f-6dc3d2b627e7",
   "metadata": {},
   "outputs": [],
   "source": [
    "eigen_vals = np.array([6/11, 3/11, 2/11])"
   ]
  },
  {
   "cell_type": "markdown",
   "id": "28830030-3d7b-417d-9965-a9c7a125acfd",
   "metadata": {},
   "source": [
    "## Compose A\n",
    "\n",
    "$ \\mathbf{A}=\\mathbf{Q}\\mathbf{\\Lambda}\\mathbf{Q}^{-1} $"
   ]
  },
  {
   "cell_type": "code",
   "execution_count": 9,
   "id": "4060e7d6-5bfc-41ad-9c37-63f93e75500f",
   "metadata": {},
   "outputs": [
    {
     "name": "stdout",
     "output_type": "stream",
     "text": [
      "[[ 0.38576407  0.15619501  0.01134867]\n",
      " [ 0.15619501  0.38710276 -0.05317606]\n",
      " [ 0.01134867 -0.05317606  0.22713317]]\n"
     ]
    }
   ],
   "source": [
    "A = Q @ np.diag(eigen_vals) @ np.linalg.inv(Q)\n",
    "print(A)"
   ]
  },
  {
   "cell_type": "markdown",
   "id": "e000e9b9-3a3a-4be7-9eee-4bf34e61af35",
   "metadata": {},
   "source": [
    "## Now do the decomposition\n",
    "\n",
    "Let's get back our eigenstuff."
   ]
  },
  {
   "cell_type": "code",
   "execution_count": 10,
   "id": "f260d19a-bd86-4bb1-a93c-6f02f906cf46",
   "metadata": {},
   "outputs": [],
   "source": [
    "eigen_vals, eigen_vectors = np.linalg.eig(A)"
   ]
  },
  {
   "cell_type": "markdown",
   "id": "2a2179f7-efe6-48fd-bf52-a0a1d2bd77bb",
   "metadata": {},
   "source": [
    "Annoyingly, it's not sorted, so let's sort it."
   ]
  },
  {
   "cell_type": "code",
   "execution_count": 11,
   "id": "f1cbd34a-f7c6-472d-a8ba-337bf48c356d",
   "metadata": {},
   "outputs": [
    {
     "name": "stdout",
     "output_type": "stream",
     "text": [
      "[0.54545455 0.27272727 0.18181818]\n",
      "[[-0.6926439  -0.56954586 -0.44256292]\n",
      " [-0.7150289   0.46158967  0.52504156]\n",
      " [ 0.09475277 -0.68011212  0.72695902]]\n"
     ]
    }
   ],
   "source": [
    "iis = np.flip(np.argsort(eigen_vals))\n",
    "eigen_vals = eigen_vals[iis]\n",
    "eigen_vectors = eigen_vectors[:,iis]\n",
    "\n",
    "print(eigen_vals)\n",
    "print(eigen_vectors)"
   ]
  },
  {
   "cell_type": "code",
   "execution_count": null,
   "id": "0b976d05-7e10-424e-ac30-5e89fa28bfb7",
   "metadata": {},
   "outputs": [],
   "source": []
  }
 ],
 "metadata": {
  "kernelspec": {
   "display_name": "Python 3 (ipykernel)",
   "language": "python",
   "name": "python3"
  },
  "language_info": {
   "codemirror_mode": {
    "name": "ipython",
    "version": 3
   },
   "file_extension": ".py",
   "mimetype": "text/x-python",
   "name": "python",
   "nbconvert_exporter": "python",
   "pygments_lexer": "ipython3",
   "version": "3.12.4"
  }
 },
 "nbformat": 4,
 "nbformat_minor": 5
}
