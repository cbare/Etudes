{
 "cells": [
  {
   "cell_type": "markdown",
   "id": "6922fb1a-ab02-4b0e-8362-4a3fb2e2505d",
   "metadata": {},
   "source": [
    "# Decomposing a square matrix into eigenvectors and eigenvalues\n",
    "\n"
   ]
  },
  {
   "cell_type": "code",
   "execution_count": 1,
   "id": "6e077732-bdb8-4a2f-a14b-ccb535f4a5bb",
   "metadata": {},
   "outputs": [],
   "source": [
    "import numpy as np"
   ]
  },
  {
   "cell_type": "code",
   "execution_count": 2,
   "id": "16f5487b-ff72-47bb-90d9-60f1c0ac4b3e",
   "metadata": {},
   "outputs": [],
   "source": [
    "rng = np.random.default_rng()"
   ]
  },
  {
   "cell_type": "markdown",
   "id": "0031aebd-032a-4ec3-a66a-ec21209029be",
   "metadata": {},
   "source": [
    "## Create random eigenvectors\n",
    "\n",
    "We'll start with a random 3x3 matrix, **X**, and compute its qr factorization, where q is orthonormal and r is upper-triangular. We'll use Q for our eigenvectors."
   ]
  },
  {
   "cell_type": "code",
   "execution_count": 3,
   "id": "391f70f1-dce1-41d8-968a-ae87da0f77b2",
   "metadata": {},
   "outputs": [
    {
     "name": "stdout",
     "output_type": "stream",
     "text": [
      "[[ 0.6502048   0.39966708 -1.81670214]\n",
      " [ 1.4408492  -1.24895529  0.10261562]\n",
      " [ 0.1102823  -0.57321404 -1.5791394 ]]\n"
     ]
    }
   ],
   "source": [
    "X = np.random.normal(size=(3,3))\n",
    "print(X)"
   ]
  },
  {
   "cell_type": "code",
   "execution_count": 4,
   "id": "f69aace9-dd8c-4ad4-9cf4-909e245c4f71",
   "metadata": {},
   "outputs": [
    {
     "name": "stdout",
     "output_type": "stream",
     "text": [
      "[[-0.41032595  0.80474808  0.42896753]\n",
      " [-0.90927939 -0.32514094 -0.25979678]\n",
      " [-0.06959606 -0.49665269  0.86515461]]\n"
     ]
    }
   ],
   "source": [
    "Q, R = np.linalg.qr(X)\n",
    "print(Q)"
   ]
  },
  {
   "cell_type": "markdown",
   "id": "a4895b56-a693-4b09-9b8e-097a48d2382e",
   "metadata": {},
   "source": [
    "### Q should be invertable, but let's make sure"
   ]
  },
  {
   "cell_type": "code",
   "execution_count": 5,
   "id": "b8384a68-702c-49e8-aa7a-525fe2d3f74d",
   "metadata": {},
   "outputs": [
    {
     "data": {
      "text/plain": [
       "0.9999999999999997"
      ]
     },
     "execution_count": 5,
     "metadata": {},
     "output_type": "execute_result"
    }
   ],
   "source": [
    "np.linalg.det(Q)"
   ]
  },
  {
   "cell_type": "code",
   "execution_count": 6,
   "id": "b93c7cfc-0a22-42cc-bdc9-44f7d21384c0",
   "metadata": {},
   "outputs": [
    {
     "data": {
      "text/plain": [
       "array([[-0.41032595, -0.90927939, -0.06959606],\n",
       "       [ 0.80474808, -0.32514094, -0.49665269],\n",
       "       [ 0.42896753, -0.25979678,  0.86515461]])"
      ]
     },
     "execution_count": 6,
     "metadata": {},
     "output_type": "execute_result"
    }
   ],
   "source": [
    "np.linalg.inv(Q)"
   ]
  },
  {
   "cell_type": "markdown",
   "id": "c66853fe-4052-4351-8ace-6f6603ea55b6",
   "metadata": {},
   "source": [
    "$ \\mathbf{Q}\\mathbf{Q}^{-1} = \\mathbf{I}$"
   ]
  },
  {
   "cell_type": "code",
   "execution_count": 7,
   "id": "1b30e0db-0457-414f-b9c2-6654c196a28b",
   "metadata": {},
   "outputs": [
    {
     "data": {
      "text/plain": [
       "array([[ 1.00000000e+00,  1.28826407e-17, -4.59574664e-17],\n",
       "       [-5.47385268e-17,  1.00000000e+00, -3.89780329e-17],\n",
       "       [ 3.51231439e-17,  9.04769524e-18,  1.00000000e+00]])"
      ]
     },
     "execution_count": 7,
     "metadata": {},
     "output_type": "execute_result"
    }
   ],
   "source": [
    "Q @ np.linalg.inv(Q)"
   ]
  },
  {
   "cell_type": "markdown",
   "id": "b130471f-84ec-4963-80e7-9d12207a66fa",
   "metadata": {},
   "source": [
    "## Create eigenvalues\n",
    "\n",
    "Let's create a vector of eigenvalues in decreasing order: [a, a/2, a/3] = [6/11, 3/11, 2/11]. "
   ]
  },
  {
   "cell_type": "code",
   "execution_count": 8,
   "id": "e507b853-594c-4c2f-be8f-6dc3d2b627e7",
   "metadata": {},
   "outputs": [],
   "source": [
    "eigen_vals = np.array([6/11, 3/11, 2/11])"
   ]
  },
  {
   "cell_type": "markdown",
   "id": "28830030-3d7b-417d-9965-a9c7a125acfd",
   "metadata": {},
   "source": [
    "## Compose A\n",
    "\n",
    "$ \\mathbf{A}=\\mathbf{Q}\\mathbf{\\Lambda}\\mathbf{Q}^{-1} $"
   ]
  },
  {
   "cell_type": "code",
   "execution_count": 9,
   "id": "4060e7d6-5bfc-41ad-9c37-63f93e75500f",
   "metadata": {},
   "outputs": [
    {
     "name": "stdout",
     "output_type": "stream",
     "text": [
      "[[ 0.30191718  0.11188611 -0.02595018]\n",
      " [ 0.11188611  0.49207933  0.03769192]\n",
      " [-0.02595018  0.03769192  0.20600349]]\n"
     ]
    }
   ],
   "source": [
    "A = Q @ np.diag(eigen_vals) @ np.linalg.inv(Q)\n",
    "print(A)"
   ]
  },
  {
   "cell_type": "markdown",
   "id": "e000e9b9-3a3a-4be7-9eee-4bf34e61af35",
   "metadata": {},
   "source": [
    "## Now do the decomposition\n",
    "\n",
    "Let's get back our eigenstuff."
   ]
  },
  {
   "cell_type": "code",
   "execution_count": 10,
   "id": "f260d19a-bd86-4bb1-a93c-6f02f906cf46",
   "metadata": {},
   "outputs": [],
   "source": [
    "eigen_vals, eigen_vectors = np.linalg.eig(A)"
   ]
  },
  {
   "cell_type": "markdown",
   "id": "2a2179f7-efe6-48fd-bf52-a0a1d2bd77bb",
   "metadata": {},
   "source": [
    "Annoyingly, it's not sorted, so let's sort it."
   ]
  },
  {
   "cell_type": "code",
   "execution_count": 11,
   "id": "f1cbd34a-f7c6-472d-a8ba-337bf48c356d",
   "metadata": {},
   "outputs": [
    {
     "name": "stdout",
     "output_type": "stream",
     "text": [
      "[0.54545455 0.27272727 0.18181818]\n",
      "[[-0.41032595 -0.80474808  0.42896753]\n",
      " [-0.90927939  0.32514094 -0.25979678]\n",
      " [-0.06959606  0.49665269  0.86515461]]\n"
     ]
    }
   ],
   "source": [
    "iis = np.flip(np.argsort(eigen_vals))\n",
    "eigen_vals = eigen_vals[iis]\n",
    "eigen_vectors = eigen_vectors[:,iis]\n",
    "\n",
    "print(eigen_vals)\n",
    "print(eigen_vectors)"
   ]
  },
  {
   "cell_type": "markdown",
   "id": "0cf87fe7-83f1-467d-adf7-87eddd709412",
   "metadata": {},
   "source": [
    "## Visualize eigenvectors in 2D"
   ]
  },
  {
   "cell_type": "code",
   "execution_count": 12,
   "id": "b8b1f50e-03e2-478c-898b-565505dc2728",
   "metadata": {},
   "outputs": [],
   "source": [
    "A = np.array(\n",
    "    [[2.1, 1.4],\n",
    "     [0.7, 1.3]]\n",
    ")"
   ]
  },
  {
   "cell_type": "code",
   "execution_count": 13,
   "id": "119d13a0-da43-46c7-8ca0-db3800747344",
   "metadata": {},
   "outputs": [],
   "source": [
    "v = np.array([[np.cos(theta), np.sin(theta)] for theta in np.linspace(0, 2*np.pi, num=100)])"
   ]
  },
  {
   "cell_type": "code",
   "execution_count": 14,
   "id": "99798950-ec0a-4643-93d5-312d6bf5e8f5",
   "metadata": {},
   "outputs": [],
   "source": [
    "import matplotlib.pyplot as plt"
   ]
  },
  {
   "cell_type": "code",
   "execution_count": 15,
   "id": "3b1b5cd1-0a4e-4a50-8e46-c47c56aeb892",
   "metadata": {},
   "outputs": [],
   "source": [
    "theta = np.linspace(0, 2*np.pi, num=100)\n",
    "v = np.stack([np.cos(theta), np.sin(theta)])"
   ]
  },
  {
   "cell_type": "code",
   "execution_count": 16,
   "id": "5d37d18e-a9cb-4809-86c9-fa8c1ad678e6",
   "metadata": {},
   "outputs": [
    {
     "data": {
      "text/plain": [
       "(2, 100)"
      ]
     },
     "execution_count": 16,
     "metadata": {},
     "output_type": "execute_result"
    }
   ],
   "source": [
    "v.shape"
   ]
  },
  {
   "cell_type": "code",
   "execution_count": 17,
   "id": "a01f7735-7174-4a59-b620-70b737af5fdb",
   "metadata": {},
   "outputs": [],
   "source": [
    "u = A @ v"
   ]
  },
  {
   "cell_type": "code",
   "execution_count": 18,
   "id": "93b3df30-68da-4a37-b4cc-7ba40d28159e",
   "metadata": {},
   "outputs": [],
   "source": [
    "eigen_vals, eigen_vectors = np.linalg.eig(A)"
   ]
  },
  {
   "cell_type": "code",
   "execution_count": 19,
   "id": "91fa1c87-6c67-433a-907a-0c5a85d38bb3",
   "metadata": {},
   "outputs": [
    {
     "data": {
      "text/plain": [
       "(array([[ 0.90259979, -0.69021933],\n",
       "        [ 0.43048068,  0.72360022]]),\n",
       " array([2.76770783, 0.63229217]))"
      ]
     },
     "execution_count": 19,
     "metadata": {},
     "output_type": "execute_result"
    }
   ],
   "source": [
    "eigen_vectors, eigen_vals"
   ]
  },
  {
   "cell_type": "code",
   "execution_count": 20,
   "id": "bf4fd88c-c48f-40e8-aeb1-34d8eae5de84",
   "metadata": {},
   "outputs": [
    {
     "data": {
      "text/plain": [
       "[<matplotlib.lines.Line2D at 0x107960e60>]"
      ]
     },
     "execution_count": 20,
     "metadata": {},
     "output_type": "execute_result"
    },
    {
     "data": {
      "image/png": "[encoded data removed]",
      "text/plain": [
       "<Figure size 640x480 with 1 Axes>"
      ]
     },
     "metadata": {},
     "output_type": "display_data"
    }
   ],
   "source": [
    "plt.axes().set_aspect('equal')\n",
    "\n",
    "plt.plot(v[0,:], v[1,:])\n",
    "plt.plot(u[0,:], u[1,:])\n",
    "\n",
    "ev = np.stack([(0,0), eigen_vectors[:,0]]) * eigen_vals[0]\n",
    "plt.plot(ev[:,0], ev[:,1])\n",
    "\n",
    "ev = np.stack([(0,0), eigen_vectors[:,1]]) * eigen_vals[1]\n",
    "plt.plot(ev[:,0], ev[:,1])"
   ]
  },
  {
   "cell_type": "code",
   "execution_count": null,
   "id": "184d8797-5f65-4321-9949-7e1cfe830b27",
   "metadata": {},
   "outputs": [],
   "source": []
  }
 ],
 "metadata": {
  "kernelspec": {
   "display_name": "Python 3 (ipykernel)",
   "language": "python",
   "name": "python3"
  },
  "language_info": {
   "codemirror_mode": {
    "name": "ipython",
    "version": 3
   },
   "file_extension": ".py",
   "mimetype": "text/x-python",
   "name": "python",
   "nbconvert_exporter": "python",
   "pygments_lexer": "ipython3",
   "version": "3.12.4"
  }
 },
 "nbformat": 4,
 "nbformat_minor": 5
}
