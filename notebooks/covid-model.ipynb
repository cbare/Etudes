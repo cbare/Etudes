{
  "cells": [
    {
      "cell_type": "code",
      "source": [
        "import numpy as np\r\n",
        "import matplotlib.pyplot as plt\r\n",
        "from tqdm import tqdm"
      ],
      "outputs": [],
      "execution_count": 16,
      "metadata": {
        "gather": {
          "logged": 1645839026449
        }
      }
    },
    {
      "cell_type": "markdown",
      "source": [
        "# Covid Modeling\r\n",
        "\r\n",
        "Warning: I have no idea what I'm doing. Don't take these numbers seriously."
      ],
      "metadata": {
        "nteract": {
          "transient": {
            "deleting": false
          }
        }
      }
    },
    {
      "cell_type": "markdown",
      "source": [
        "Cases is an array with one element for each member of the population. It's 0 if that person is not infected. A new infection gets a random integer that counts down the number of days 'til recovery. We subtract one each day from all non-zero values until they reach zero.\r\n",
        "\r\n",
        "The array `pop` represents immunity in the population as a probability of getting infected if exposed. 0.0 means that person will certainly get sick if exposed. 1.0 means bomb-proof immunity."
      ],
      "metadata": {
        "nteract": {
          "transient": {
            "deleting": false
          }
        }
      }
    },
    {
      "cell_type": "markdown",
      "source": [
        "Non-vector version, maybe a little more readable."
      ],
      "metadata": {
        "nteract": {
          "transient": {
            "deleting": false
          }
        }
      }
    },
    {
      "cell_type": "code",
      "source": [
        "def spread(cases, pop, n, r0=15):\r\n",
        "    mu = 0\r\n",
        "    sigma = 1\r\n",
        "    new_cases = (sum(cases > 0) * r0/10* np.random.lognormal(mu, sigma) / np.exp(mu + sigma**2/2)).round().astype(int)\r\n",
        "    for exposure in np.random.choice(n, new_cases, replace=True):\r\n",
        "        # if you're already infected, nothing happens\r\n",
        "        if cases[exposure] == 0 and pop[exposure] < np.random.uniform(0,1):\r\n",
        "            cases[exposure] = (np.random.beta(3,2,1)*10).astype(int)\r\n",
        "            pop[exposure] = min(1.0, pop[exposure] + (1-pop[exposure])*np.random.normal(0.6, 0.2))\r\n",
        "\r\n",
        "    return cases"
      ],
      "outputs": [],
      "execution_count": 17,
      "metadata": {
        "jupyter": {
          "source_hidden": false,
          "outputs_hidden": false
        },
        "nteract": {
          "transient": {
            "deleting": false
          }
        },
        "gather": {
          "logged": 1645839030086
        }
      }
    },
    {
      "cell_type": "markdown",
      "source": [
        "Vectorized spread function. Disappointingly, it's not that much faster than the previous version."
      ],
      "metadata": {
        "nteract": {
          "transient": {
            "deleting": false
          }
        }
      }
    },
    {
      "cell_type": "code",
      "source": [
        "def spread(cases, pop, n, r0=15):\r\n",
        "    mu = 0\r\n",
        "    sigma = 1\r\n",
        "\r\n",
        "    # how many new exposures result from the existing cases?\r\n",
        "    exposures = (sum(cases > 0) * r0/10 * np.random.lognormal(mu, sigma) / np.exp(mu + sigma**2/2)).round().astype(int)\r\n",
        "\r\n",
        "    # randomly sample from the population to decide who gets exposed\r\n",
        "    exposure_indexes = np.unique(np.random.choice(n, exposures, replace=True))\r\n",
        "\r\n",
        "    # If an existing case is exposed, nothing happens. Otherwise, an exposure\r\n",
        "    # turns into a case if their immunity fails to stop infection\r\n",
        "    case_indexes = exposure_indexes[ (cases[exposure_indexes] == 0) & (pop[exposure_indexes] < np.random.uniform(0,1,exposure_indexes.shape)) ]\r\n",
        "\r\n",
        "    # Draw how many days each case will be sick from a beta distribution\r\n",
        "    # Note: maybe should depend on immunity?\r\n",
        "    cases[case_indexes] = (np.random.beta(3,2,case_indexes.shape)*10).astype(int)\r\n",
        "\r\n",
        "    # being infected causes immunity to increase. Should being exposed also?\r\n",
        "    pop[case_indexes] = (pop[case_indexes] + (1-pop[case_indexes])*np.random.normal(0.6, 0.2, case_indexes.shape)).clip(0.0, 1.0)\r\n",
        "\r\n",
        "    return cases, pop"
      ],
      "outputs": [],
      "execution_count": 93,
      "metadata": {
        "jupyter": {
          "source_hidden": false,
          "outputs_hidden": false
        },
        "nteract": {
          "transient": {
            "deleting": false
          }
        },
        "gather": {
          "logged": 1645918695786
        }
      }
    },
    {
      "cell_type": "code",
      "source": [
        "def recover(cases, pop, waning_immunity=1.0):\r\n",
        "    cases[cases>0] -= 1\r\n",
        "    return cases, pop * waning_immunity"
      ],
      "outputs": [],
      "execution_count": 94,
      "metadata": {
        "jupyter": {
          "source_hidden": false,
          "outputs_hidden": false
        },
        "nteract": {
          "transient": {
            "deleting": false
          }
        },
        "gather": {
          "logged": 1645918696023
        }
      }
    },
    {
      "cell_type": "markdown",
      "source": [
        "## Try in small population"
      ],
      "metadata": {
        "nteract": {
          "transient": {
            "deleting": false
          }
        }
      }
    },
    {
      "cell_type": "code",
      "source": [
        "n=10000\r\n",
        "cases = np.zeros(n)\r\n",
        "cases[0] = 10\r\n",
        "pop = np.random.uniform(0,1,n)\r\n",
        "\r\n",
        "n_cases = []\r\n",
        "for i in tqdm(range(365)):\r\n",
        "    cases, pop = spread(cases, pop, n=n, r0=15)\r\n",
        "    cases, pop = recover(cases, pop, waning_immunity=0.999)\r\n",
        "    n_cases.append(sum(cases>0))\r\n",
        "\r\n",
        "plt.plot(n_cases)\r\n",
        "plt.show()"
      ],
      "outputs": [
        {
          "output_type": "stream",
          "name": "stderr",
          "text": "100%|██████████| 365/365 [00:18<00:00, 19.39it/s]\n"
        },
        {
          "output_type": "display_data",
          "data": {
            "text/plain": "<Figure size 432x288 with 1 Axes>",
            "image/png": "[encoded data removed]"
          },
          "metadata": {
            "needs_background": "light"
          }
        }
      ],
      "execution_count": 96,
      "metadata": {
        "jupyter": {
          "source_hidden": false,
          "outputs_hidden": false
        },
        "nteract": {
          "transient": {
            "deleting": false
          }
        },
        "gather": {
          "logged": 1645918750181
        }
      }
    },
    {
      "cell_type": "code",
      "source": [
        "n=10000\r\n",
        "\r\n",
        "runs = []\r\n",
        "for j in tqdm(range(100)):\r\n",
        "    cases = np.zeros(n)\r\n",
        "    cases[0] = 10\r\n",
        "    pop = np.random.uniform(0,1,n)\r\n",
        "\r\n",
        "    n_cases = []\r\n",
        "    for i in range(365):\r\n",
        "        cases = spread(cases, pop, n=n, r0=8)\r\n",
        "        cases, pop = recover(cases, pop, waning_immunity=0.999)\r\n",
        "        n_cases.append(sum(cases>0))\r\n",
        "\r\n",
        "    runs.append(n_cases)"
      ],
      "outputs": [
        {
          "output_type": "stream",
          "name": "stderr",
          "text": " 31%|███       | 31/100 [09:21<20:44, 18.04s/it]"
        }
      ],
      "execution_count": 87,
      "metadata": {
        "jupyter": {
          "source_hidden": false,
          "outputs_hidden": false
        },
        "nteract": {
          "transient": {
            "deleting": false
          }
        },
        "gather": {
          "logged": 1645868149066
        }
      }
    },
    {
      "cell_type": "code",
      "source": [
        "z = np.stack(runs, axis=0)\r\n",
        "print(z.shape)\r\n",
        "z = z.mean(axis=0)\r\n",
        "print(z.shape)\r\n",
        "plt.plot(z)\r\n",
        "plt.show()"
      ],
      "outputs": [
        {
          "output_type": "stream",
          "name": "stdout",
          "text": "(100, 365)\n(365,)\n"
        },
        {
          "output_type": "display_data",
          "data": {
            "text/plain": "<Figure size 432x288 with 1 Axes>",
            "image/png": "[encoded data removed]"
          },
          "metadata": {
            "needs_background": "light"
          }
        }
      ],
      "execution_count": 97,
      "metadata": {
        "jupyter": {
          "source_hidden": false,
          "outputs_hidden": false
        },
        "nteract": {
          "transient": {
            "deleting": false
          }
        },
        "gather": {
          "logged": 1645918750789
        }
      }
    },
    {
      "cell_type": "code",
      "source": [
        "import seaborn as sns\r\n",
        "import pandas as pd\r\n",
        "\r\n",
        "df = pd.concat(\r\n",
        "    (\r\n",
        "        pd.DataFrame({\"run\":i, \"day\":range(0,365), \"cases\":r}) \r\n",
        "        for i, r in enumerate(runs)\r\n",
        "    ),\r\n",
        "    ignore_index=True\r\n",
        ")"
      ],
      "outputs": [],
      "execution_count": 100,
      "metadata": {
        "jupyter": {
          "source_hidden": false,
          "outputs_hidden": false
        },
        "nteract": {
          "transient": {
            "deleting": false
          }
        },
        "gather": {
          "logged": 1645918840833
        }
      }
    },
    {
      "cell_type": "code",
      "source": [
        "sns.lineplot(x=\"day\", y=\"cases\", data=df)"
      ],
      "outputs": [
        {
          "output_type": "execute_result",
          "execution_count": 101,
          "data": {
            "text/plain": "<AxesSubplot:xlabel='day', ylabel='cases'>"
          },
          "metadata": {}
        },
        {
          "output_type": "display_data",
          "data": {
            "text/plain": "<Figure size 432x288 with 1 Axes>",
            "image/png": "[encoded data removed]"
          },
          "metadata": {
            "needs_background": "light"
          }
        }
      ],
      "execution_count": 101,
      "metadata": {
        "jupyter": {
          "source_hidden": false,
          "outputs_hidden": false
        },
        "nteract": {
          "transient": {
            "deleting": false
          }
        },
        "gather": {
          "logged": 1645918851800
        }
      }
    },
    {
      "cell_type": "markdown",
      "source": [
        "## Model the New Zealand Population\r\n",
        "\r\n",
        "Roughly based on vaccine numbers from https://covid19.govt.nz/news-and-data/covid-19-data-and-statistics/ as of 2022-02-26."
      ],
      "metadata": {
        "nteract": {
          "transient": {
            "deleting": false
          }
        }
      }
    },
    {
      "cell_type": "markdown",
      "source": [
        "Let's start out with some variation in their inate immunity, even in a totally naive population. Then add on the effects of each dose of vaccine."
      ],
      "metadata": {
        "nteract": {
          "transient": {
            "deleting": false
          }
        }
      }
    },
    {
      "cell_type": "code",
      "source": [
        "n = 5127200\r\n",
        "pop = np.random.beta(2,30,n)\r\n",
        "plt.hist(pop)\r\n",
        "print(pop.mean())"
      ],
      "outputs": [
        {
          "output_type": "stream",
          "name": "stdout",
          "text": "0.06249882354616889\n"
        },
        {
          "output_type": "display_data",
          "data": {
            "text/plain": "<Figure size 432x288 with 1 Axes>",
            "image/png": "[encoded data removed]"
          },
          "metadata": {
            "needs_background": "light"
          }
        }
      ],
      "execution_count": 102,
      "metadata": {
        "jupyter": {
          "source_hidden": false,
          "outputs_hidden": false
        },
        "nteract": {
          "transient": {
            "deleting": false
          }
        },
        "gather": {
          "logged": 1645923849978
        }
      }
    },
    {
      "cell_type": "code",
      "source": [
        "vax_protection_inf = [0.0, 0.25, 0.33, 0.70]\r\n",
        "vax_protection_hos = [0.0, 0.50, 0.70, 0.85]"
      ],
      "outputs": [],
      "execution_count": 103,
      "metadata": {
        "jupyter": {
          "source_hidden": false,
          "outputs_hidden": false
        },
        "nteract": {
          "transient": {
            "deleting": false
          }
        },
        "gather": {
          "logged": 1645923857980
        }
      }
    },
    {
      "cell_type": "code",
      "source": [
        "ped_doses = 232_359\r\n",
        "doses = [\r\n",
        "    n,\r\n",
        "    4_017_924 + ped_doses,\r\n",
        "    3_956_862,\r\n",
        "    2_248_153,\r\n",
        "]\r\n",
        "\r\n",
        "\r\n",
        "print(\"\\nd=0\")\r\n",
        "print(pop.mean(), pop.std(), pop.min(), pop.max())\r\n",
        "\r\n",
        "std=0.05\r\n",
        "\r\n",
        "\r\n",
        "d=1\r\n",
        "vaxed = np.random.choice(n, size=doses[d])\r\n",
        "protection = np.random.normal(vax_protection_inf[d], std, size=doses[d])\r\n",
        "pop[vaxed] += protection\r\n",
        "pop = pop.clip(0,1)\r\n",
        "print(f\"\\nd={d}\")\r\n",
        "print(len(vaxed))\r\n",
        "print(protection.mean(), protection.std())\r\n",
        "print(pop.mean(), pop.std(), pop.min(), pop.max())\r\n",
        "\r\n",
        "\r\n",
        "d=2\r\n",
        "vaxed = np.random.choice(vaxed, size=doses[d])\r\n",
        "pop[vaxed] += np.random.normal(vax_protection_inf[d]-vax_protection_inf[d-1], std, size=doses[d])\r\n",
        "pop = pop.clip(0,1)\r\n",
        "print(f\"\\nd={d}\")\r\n",
        "print(len(vaxed))\r\n",
        "print(protection.mean(), protection.std())\r\n",
        "print(pop.mean(), pop.std(), pop.min(), pop.max())\r\n",
        "\r\n",
        "d=3\r\n",
        "vaxed = np.random.choice(vaxed, size=doses[d])\r\n",
        "pop[vaxed] += np.random.normal(vax_protection_inf[d]-vax_protection_inf[d-1], std, size=doses[d])\r\n",
        "pop = pop.clip(0,1)\r\n",
        "print(f\"\\nd={d}\")\r\n",
        "print(len(vaxed))\r\n",
        "print(protection.mean(), protection.std())\r\n",
        "print(pop.mean(), pop.std(), pop.min(), pop.max())\r\n",
        "\r\n",
        "doses = [\r\n",
        "    doses[0]-doses[1],\r\n",
        "    doses[1]-doses[2],\r\n",
        "    doses[2]-doses[3],\r\n",
        "    doses[3]\r\n",
        "]\r\n",
        "print(doses)\r\n",
        "print(sum(doses))"
      ],
      "outputs": [
        {
          "output_type": "stream",
          "name": "stdout",
          "text": "\nd=0\n0.06249882354616889 0.042125817429815506 6.8006164430799415e-06 0.4421957389318115\n\nd=1\n4250283\n0.24998415633116866 0.0499773343593771\n0.20336208550380702 0.13621939487456616 4.729481014884763e-05 0.7493976823695494\n\nd=2\n3956862\n0.24998415633116866 0.0499773343593771\n0.23490019332595533 0.1671867191912262 4.729481014884763e-05 0.8851942590760906\n\nd=3\n2248153\n0.24998415633116866 0.0499773343593771\n0.32381931679157006 0.28546716829757735 4.729481014884763e-05 1.0\n[876917, 293421, 1708709, 2248153]\n5127200\n"
        }
      ],
      "execution_count": 104,
      "metadata": {
        "jupyter": {
          "source_hidden": false,
          "outputs_hidden": false
        },
        "nteract": {
          "transient": {
            "deleting": false
          }
        },
        "gather": {
          "logged": 1645923860930
        }
      }
    },
    {
      "cell_type": "markdown",
      "source": [
        "Looking at the population immunity, we see a stack of unvaxed down near zero, the 1-dose and 2-dose folks are in a lump between 0.1 and 0.5. Boosted people center around 0.7."
      ],
      "metadata": {
        "nteract": {
          "transient": {
            "deleting": false
          }
        }
      }
    },
    {
      "cell_type": "code",
      "source": [
        "plt.hist(pop)"
      ],
      "outputs": [
        {
          "output_type": "execute_result",
          "execution_count": 105,
          "data": {
            "text/plain": "(array([1859943.,  393054.,  467985.,  734770.,  359509.,  124379.,\n         274806.,  490724.,  325479.,   96551.]),\n array([4.72948101e-05, 1.00042565e-01, 2.00037836e-01, 3.00033106e-01,\n        4.00028377e-01, 5.00023647e-01, 6.00018918e-01, 7.00014188e-01,\n        8.00009459e-01, 9.00004729e-01, 1.00000000e+00]),\n <BarContainer object of 10 artists>)"
          },
          "metadata": {}
        },
        {
          "output_type": "display_data",
          "data": {
            "text/plain": "<Figure size 432x288 with 1 Axes>",
            "image/png": "[encoded data removed]"
          },
          "metadata": {
            "needs_background": "light"
          }
        }
      ],
      "execution_count": 105,
      "metadata": {
        "jupyter": {
          "source_hidden": false,
          "outputs_hidden": false
        },
        "nteract": {
          "transient": {
            "deleting": false
          }
        },
        "gather": {
          "logged": 1645923863484
        }
      }
    },
    {
      "cell_type": "code",
      "source": [
        "cases = np.zeros(n)\r\n",
        "cases[0] = 10\r\n",
        "\r\n",
        "n_cases = []\r\n",
        "for i in tqdm(range(365)):\r\n",
        "    cases, pop = spread(cases, pop, n=n, r0=15)\r\n",
        "    cases, pop = recover(cases, pop, waning_immunity=0.9985)\r\n",
        "    n_cases.append(sum(cases>0))\r\n",
        "\r\n",
        "plt.plot(n_cases)"
      ],
      "outputs": [
        {
          "output_type": "stream",
          "name": "stderr",
          "text": "100%|██████████| 365/365 [2:33:32<00:00, 25.24s/it]  \n"
        },
        {
          "output_type": "execute_result",
          "execution_count": 107,
          "data": {
            "text/plain": "[<matplotlib.lines.Line2D at 0x7f3b183cc130>]"
          },
          "metadata": {}
        },
        {
          "output_type": "display_data",
          "data": {
            "text/plain": "<Figure size 432x288 with 1 Axes>",
            "image/png": "[encoded data removed]"
          },
          "metadata": {
            "needs_background": "light"
          }
        }
      ],
      "execution_count": 107,
      "metadata": {
        "jupyter": {
          "source_hidden": false,
          "outputs_hidden": false
        },
        "nteract": {
          "transient": {
            "deleting": false
          }
        },
        "gather": {
          "logged": 1645933135395
        }
      }
    },
    {
      "cell_type": "code",
      "source": [
        "print(\", \".join(str(x) for x in n_cases))"
      ],
      "outputs": [
        {
          "output_type": "stream",
          "name": "stdout",
          "text": "1, 2, 2, 3, 7, 11, 15, 29, 46, 48, 47, 80, 144, 494, 2189, 2174, 2141, 2765, 3295, 3576, 3807, 9745, 14908, 17796, 20252, 21190, 34855, 49496, 46189, 66275, 220806, 506345, 736026, 960850, 1335081, 1361098, 1445864, 2391286, 2529724, 3071757, 2623372, 2605139, 2195379, 2252125, 1726049, 1613072, 1465866, 1493478, 1224476, 1080934, 1209281, 998069, 961570, 738558, 778181, 896881, 735667, 596992, 499547, 609555, 498402, 446313, 388231, 447903, 370987, 298027, 250152, 271518, 428043, 424577, 484075, 433857, 357929, 301347, 271201, 244604, 272957, 300105, 259251, 259655, 245272, 199611, 173383, 136490, 114298, 117816, 122697, 103130, 90061, 73560, 115793, 108209, 108203, 104582, 85559, 71602, 52580, 41214, 37838, 29059, 32598, 30695, 25711, 21540, 18287, 13453, 15814, 12585, 9980, 10264, 9937, 11464, 13700, 18961, 21342, 29665, 28228, 25738, 32018, 30481, 32271, 26584, 20743, 18507, 17715, 13814, 29054, 34450, 37619, 41485, 41314, 36786, 30125, 51274, 48212, 46045, 46066, 45852, 62578, 52229, 42799, 41183, 36980, 32440, 24807, 18812, 15150, 11316, 9815, 7176, 17068, 18112, 31304, 28608, 24709, 22059, 22223, 38994, 40117, 72132, 81314, 77623, 87374, 75217, 65508, 102280, 107852, 121523, 111893, 129577, 116155, 151890, 173932, 237156, 328216, 440639, 430003, 436550, 504585, 894134, 1024518, 1246629, 1668510, 1582086, 1876743, 1632566, 1334812, 1384335, 1237917, 1361343, 1189482, 951671, 766815, 637096, 462052, 314166, 279087, 241778, 225015, 187668, 166803, 137262, 148967, 117039, 107686, 116678, 105744, 101040, 81092, 63109, 61266, 46818, 48191, 38993, 33957, 29571, 58363, 55927, 68054, 66440, 73638, 61230, 46520, 34847, 33708, 27924, 21252, 23680, 20292, 18578, 23976, 25946, 24147, 21546, 18719, 14120, 16518, 16064, 17635, 15438, 19550, 16814, 18066, 17249, 14363, 12420, 10335, 9160, 8225, 9350, 7757, 9170, 8162, 11454, 9646, 9542, 9229, 8143, 6921, 5297, 5893, 5746, 8716, 7760, 8317, 7780, 6346, 6748, 6027, 9238, 11738, 13643, 12066, 11059, 8886, 7830, 5750, 4002, 3182, 6574, 5998, 7528, 7220, 6505, 7714, 7898, 6964, 5579, 6418, 7157, 6821, 7823, 6678, 6655, 7114, 5875, 4554, 3932, 3398, 3359, 2789, 2405, 2183, 1714, 1813, 1472, 1219, 1149, 1210, 1189, 1027, 910, 875, 982, 1307, 2030, 3016, 3285, 4113, 5869, 8310, 8723, 7982, 7478, 8282, 7476, 6084, 9476, 28113, 32101, 41392, 51108, 141586, 186737, 176232, 191830, 183098, 163846, 198381, 166139, 136300, 193883, 175907, 163169, 145949, 206318, 274807, 298229, 486076, 491342, 599147, 541535, 1207986, 1250610, 1405165, 1398401, 1182722, 929103, 1227121, 1402439, 1265005, 1178238, 1007010, 868364, 728271\n"
        }
      ],
      "execution_count": 109,
      "metadata": {
        "jupyter": {
          "source_hidden": false,
          "outputs_hidden": false
        },
        "nteract": {
          "transient": {
            "deleting": false
          }
        },
        "gather": {
          "logged": 1645942112058
        }
      }
    },
    {
      "cell_type": "markdown",
      "source": [
        "## Distributions"
      ],
      "metadata": {
        "nteract": {
          "transient": {
            "deleting": false
          }
        }
      }
    },
    {
      "cell_type": "code",
      "source": [
        "plt.hist(x=(np.random.beta(3,2,1000)*10).astype(int))"
      ],
      "outputs": [
        {
          "output_type": "execute_result",
          "execution_count": 625,
          "data": {
            "text/plain": "(array([  4.,  25.,  59.,  95., 132., 178., 176., 158., 130.,  43.]),\n array([0. , 0.9, 1.8, 2.7, 3.6, 4.5, 5.4, 6.3, 7.2, 8.1, 9. ]),\n <a list of 10 Patch objects>)"
          },
          "metadata": {}
        },
        {
          "output_type": "display_data",
          "data": {
            "text/plain": "<Figure size 432x288 with 1 Axes>",
            "image/png": "[encoded data removed]"
          },
          "metadata": {
            "needs_background": "light"
          }
        }
      ],
      "execution_count": 625,
      "metadata": {
        "jupyter": {
          "source_hidden": false,
          "outputs_hidden": false
        },
        "nteract": {
          "transient": {
            "deleting": false
          }
        },
        "gather": {
          "logged": 1645831339732
        }
      }
    },
    {
      "cell_type": "code",
      "source": [
        "import seaborn as sns\r\n",
        "z = np.random.lognormal(1.5, 1, 1000) / np.exp(1.5 + 1/2)\r\n",
        "print(z.mean(), np.exp(0 + 1/2))\r\n",
        "sns.kdeplot(z)"
      ],
      "outputs": [],
      "execution_count": null,
      "metadata": {
        "jupyter": {
          "source_hidden": false,
          "outputs_hidden": false
        },
        "nteract": {
          "transient": {
            "deleting": false
          }
        },
        "gather": {
          "logged": 1645831340005
        }
      }
    },
    {
      "cell_type": "code",
      "source": [
        "def mode_of_beta(a,b):\r\n",
        "    if a < 1 and b < 1:\r\n",
        "        return (0,1)\r\n",
        "    if a <=1 and b > 1:\r\n",
        "        return 0\r\n",
        "    if a > 1 and b <= 1:\r\n",
        "        return 1\r\n",
        "    return (a-1) / (a+b-2)"
      ],
      "outputs": [],
      "execution_count": 618,
      "metadata": {
        "jupyter": {
          "source_hidden": false,
          "outputs_hidden": false
        },
        "nteract": {
          "transient": {
            "deleting": false
          }
        },
        "gather": {
          "logged": 1645831220472
        }
      }
    },
    {
      "cell_type": "code",
      "source": [
        "mode_of_beta(10,2)"
      ],
      "outputs": [
        {
          "output_type": "execute_result",
          "execution_count": 619,
          "data": {
            "text/plain": "0.9"
          },
          "metadata": {}
        }
      ],
      "execution_count": 619,
      "metadata": {
        "jupyter": {
          "source_hidden": false,
          "outputs_hidden": false
        },
        "nteract": {
          "transient": {
            "deleting": false
          }
        },
        "gather": {
          "logged": 1645831220701
        }
      }
    },
    {
      "cell_type": "code",
      "source": [
        "n=365\r\n",
        "x=np.ones(n)\r\n",
        "for i in range(1,n):\r\n",
        "    x[i] = x[i-1]*0.9985\r\n",
        "plt.plot(x)"
      ],
      "outputs": [
        {
          "output_type": "execute_result",
          "execution_count": 110,
          "data": {
            "text/plain": "[<matplotlib.lines.Line2D at 0x7f3b183df2b0>]"
          },
          "metadata": {}
        },
        {
          "output_type": "display_data",
          "data": {
            "text/plain": "<Figure size 432x288 with 1 Axes>",
            "image/png": "[encoded data removed]"
          },
          "metadata": {
            "needs_background": "light"
          }
        }
      ],
      "execution_count": 110,
      "metadata": {
        "jupyter": {
          "source_hidden": false,
          "outputs_hidden": false
        },
        "nteract": {
          "transient": {
            "deleting": false
          }
        },
        "gather": {
          "logged": 1645942386621
        }
      }
    },
    {
      "cell_type": "code",
      "source": [],
      "outputs": [],
      "execution_count": null,
      "metadata": {
        "jupyter": {
          "source_hidden": false,
          "outputs_hidden": false
        },
        "nteract": {
          "transient": {
            "deleting": false
          }
        }
      }
    }
  ],
  "metadata": {
    "kernelspec": {
      "name": "azureml_py38_pt_tf",
      "language": "python",
      "display_name": "Python 3.8 - Pytorch and Tensorflow"
    },
    "language_info": {
      "name": "python",
      "version": "3.8.1",
      "mimetype": "text/x-python",
      "codemirror_mode": {
        "name": "ipython",
        "version": 3
      },
      "pygments_lexer": "ipython3",
      "nbconvert_exporter": "python",
      "file_extension": ".py"
    },
    "kernel_info": {
      "name": "azureml_py38_pt_tf"
    },
    "microsoft": {
      "host": {
        "AzureML": {
          "notebookHasBeenCompleted": true
        }
      }
    },
    "nteract": {
      "version": "nteract-front-end@1.0.0"
    }
  },
  "nbformat": 4,
  "nbformat_minor": 2
}