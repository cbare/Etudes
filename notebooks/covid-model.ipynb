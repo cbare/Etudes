{
  "cells": [
    {
      "cell_type": "code",
      "source": [
        "import numpy as np\r\n",
        "import matplotlib.pyplot as plt\r\n",
        "from tqdm import tqdm"
      ],
      "outputs": [],
      "execution_count": 16,
      "metadata": {
        "gather": {
          "logged": 1645839026449
        }
      }
    },
    {
      "cell_type": "markdown",
      "source": [
        "# Covid Modeling\r\n",
        "\r\n",
        "Warning: I have no idea what I'm doing. Don't take these numbers seriously."
      ],
      "metadata": {
        "nteract": {
          "transient": {
            "deleting": false
          }
        }
      }
    },
    {
      "cell_type": "markdown",
      "source": [
        "Cases is an array with one element for each member of the population. It's 0 if that person is not infected. A new infection gets a random integer that counts down the number of days 'til recovery. We subtract one each day from all non-zero values until they reach zero.\r\n",
        "\r\n",
        "The array `pop` represents immunity in the population as a probability of getting infected if exposed. 0.0 means that person will certainly get sick if exposed. 1.0 means bomb-proof immunity."
      ],
      "metadata": {
        "nteract": {
          "transient": {
            "deleting": false
          }
        }
      }
    },
    {
      "cell_type": "markdown",
      "source": [
        "Non-vector version, maybe a little more readable."
      ],
      "metadata": {
        "nteract": {
          "transient": {
            "deleting": false
          }
        }
      }
    },
    {
      "cell_type": "code",
      "source": [
        "def spread(cases, pop, n, r0=15):\r\n",
        "    mu = 0\r\n",
        "    sigma = 1\r\n",
        "    new_cases = (sum(cases > 0) * r0/10* np.random.lognormal(mu, sigma) / np.exp(mu + sigma**2/2)).round().astype(int)\r\n",
        "    for exposure in np.random.choice(n, new_cases, replace=True):\r\n",
        "        # if you're already infected, nothing happens\r\n",
        "        if cases[exposure] == 0 and pop[exposure] < np.random.uniform(0,1):\r\n",
        "            cases[exposure] = (np.random.beta(3,2,1)*10).astype(int)\r\n",
        "            pop[exposure] = min(1.0, pop[exposure] + (1-pop[exposure])*np.random.normal(0.6, 0.2))\r\n",
        "\r\n",
        "    return cases"
      ],
      "outputs": [],
      "execution_count": 17,
      "metadata": {
        "jupyter": {
          "source_hidden": false,
          "outputs_hidden": false
        },
        "nteract": {
          "transient": {
            "deleting": false
          }
        },
        "gather": {
          "logged": 1645839030086
        }
      }
    },
    {
      "cell_type": "markdown",
      "source": [
        "Vectorized spread function. Disappointingly, it's not that much faster than the previous version."
      ],
      "metadata": {
        "nteract": {
          "transient": {
            "deleting": false
          }
        }
      }
    },
    {
      "cell_type": "code",
      "source": [
        "def spread(cases, pop, n, r0=15):\r\n",
        "    mu = 0\r\n",
        "    sigma = 1\r\n",
        "\r\n",
        "    # how many new exposures result from the existing cases?\r\n",
        "    exposures = (sum(cases > 0) * r0/10 * np.random.lognormal(mu, sigma) / np.exp(mu + sigma**2/2)).round().astype(int)\r\n",
        "\r\n",
        "    # randomly sample from the population to decide who gets exposed\r\n",
        "    exposure_indexes = np.unique(np.random.choice(n, exposures, replace=True))\r\n",
        "\r\n",
        "    # If an existing case is exposed, nothing happens. Otherwise, an exposure\r\n",
        "    # turns into a case if their immunity fails to stop infection\r\n",
        "    case_indexes = exposure_indexes[ (cases[exposure_indexes] == 0) & (pop[exposure_indexes] < np.random.uniform(0,1,exposure_indexes.shape)) ]\r\n",
        "\r\n",
        "    # Draw how many days each case will be sick from a beta distribution\r\n",
        "    # Note: maybe should depend on immunity?\r\n",
        "    cases[case_indexes] = (np.random.beta(3,2,case_indexes.shape)*10).astype(int)\r\n",
        "\r\n",
        "    # being infected causes immunity to increase. Should being exposed also?\r\n",
        "    pop[case_indexes] = (pop[case_indexes] + (1-pop[case_indexes])*np.random.normal(0.6, 0.2, case_indexes.shape)).clip(0.0, 1.0)\r\n",
        "\r\n",
        "    return cases, pop"
      ],
      "outputs": [],
      "execution_count": 93,
      "metadata": {
        "jupyter": {
          "source_hidden": false,
          "outputs_hidden": false
        },
        "nteract": {
          "transient": {
            "deleting": false
          }
        },
        "gather": {
          "logged": 1645918695786
        }
      }
    },
    {
      "cell_type": "code",
      "source": [
        "def recover(cases, pop, waning_immunity=1.0):\r\n",
        "    cases[cases>0] -= 1\r\n",
        "    return cases, pop * waning_immunity"
      ],
      "outputs": [],
      "execution_count": 94,
      "metadata": {
        "jupyter": {
          "source_hidden": false,
          "outputs_hidden": false
        },
        "nteract": {
          "transient": {
            "deleting": false
          }
        },
        "gather": {
          "logged": 1645918696023
        }
      }
    },
    {
      "cell_type": "markdown",
      "source": [
        "## Try in small population"
      ],
      "metadata": {
        "nteract": {
          "transient": {
            "deleting": false
          }
        }
      }
    },
    {
      "cell_type": "code",
      "source": [
        "n=10000\r\n",
        "cases = np.zeros(n)\r\n",
        "cases[0] = 10\r\n",
        "pop = np.random.uniform(0,1,n)\r\n",
        "\r\n",
        "n_cases = []\r\n",
        "for i in tqdm(range(365)):\r\n",
        "    cases, pop = spread(cases, pop, n=n, r0=15)\r\n",
        "    cases, pop = recover(cases, pop, waning_immunity=0.999)\r\n",
        "    n_cases.append(sum(cases>0))\r\n",
        "\r\n",
        "plt.plot(n_cases)\r\n",
        "plt.show()"
      ],
      "outputs": [
        {
          "output_type": "stream",
          "name": "stderr",
          "text": "100%|██████████| 365/365 [00:18<00:00, 19.39it/s]\n"
        },
        {
          "output_type": "display_data",
          "data": {
            "text/plain": "<Figure size 432x288 with 1 Axes>",
            "image/png": "[encoded data removed]"
          },
          "metadata": {
            "needs_background": "light"
          }
        }
      ],
      "execution_count": 96,
      "metadata": {
        "jupyter": {
          "source_hidden": false,
          "outputs_hidden": false
        },
        "nteract": {
          "transient": {
            "deleting": false
          }
        },
        "gather": {
          "logged": 1645918750181
        }
      }
    },
    {
      "cell_type": "code",
      "source": [
        "n=10000\r\n",
        "\r\n",
        "runs = []\r\n",
        "for j in tqdm(range(100)):\r\n",
        "    cases = np.zeros(n)\r\n",
        "    cases[0] = 10\r\n",
        "    pop = np.random.uniform(0,1,n)\r\n",
        "\r\n",
        "    n_cases = []\r\n",
        "    for i in range(365):\r\n",
        "        cases = spread(cases, pop, n=n, r0=8)\r\n",
        "        cases, pop = recover(cases, pop, waning_immunity=0.999)\r\n",
        "        n_cases.append(sum(cases>0))\r\n",
        "\r\n",
        "    runs.append(n_cases)"
      ],
      "outputs": [
        {
          "output_type": "stream",
          "name": "stderr",
          "text": " 31%|███       | 31/100 [09:21<20:44, 18.04s/it]"
        }
      ],
      "execution_count": 87,
      "metadata": {
        "jupyter": {
          "source_hidden": false,
          "outputs_hidden": false
        },
        "nteract": {
          "transient": {
            "deleting": false
          }
        },
        "gather": {
          "logged": 1645868149066
        }
      }
    },
    {
      "cell_type": "code",
      "source": [
        "z = np.stack(runs, axis=0)\r\n",
        "print(z.shape)\r\n",
        "z = z.mean(axis=0)\r\n",
        "print(z.shape)\r\n",
        "plt.plot(z)\r\n",
        "plt.show()"
      ],
      "outputs": [
        {
          "output_type": "stream",
          "name": "stdout",
          "text": "(100, 365)\n(365,)\n"
        },
        {
          "output_type": "display_data",
          "data": {
            "text/plain": "<Figure size 432x288 with 1 Axes>",
            "image/png": "[encoded data removed]"
          },
          "metadata": {
            "needs_background": "light"
          }
        }
      ],
      "execution_count": 97,
      "metadata": {
        "jupyter": {
          "source_hidden": false,
          "outputs_hidden": false
        },
        "nteract": {
          "transient": {
            "deleting": false
          }
        },
        "gather": {
          "logged": 1645918750789
        }
      }
    },
    {
      "cell_type": "code",
      "source": [
        "import seaborn as sns\r\n",
        "import pandas as pd\r\n",
        "\r\n",
        "df = pd.concat(\r\n",
        "    (\r\n",
        "        pd.DataFrame({\"run\":i, \"day\":range(0,365), \"cases\":r}) \r\n",
        "        for i, r in enumerate(runs)\r\n",
        "    ),\r\n",
        "    ignore_index=True\r\n",
        ")"
      ],
      "outputs": [],
      "execution_count": 100,
      "metadata": {
        "jupyter": {
          "source_hidden": false,
          "outputs_hidden": false
        },
        "nteract": {
          "transient": {
            "deleting": false
          }
        },
        "gather": {
          "logged": 1645918840833
        }
      }
    },
    {
      "cell_type": "code",
      "source": [
        "sns.lineplot(x=\"day\", y=\"cases\", data=df)"
      ],
      "outputs": [
        {
          "output_type": "execute_result",
          "execution_count": 101,
          "data": {
            "text/plain": "<AxesSubplot:xlabel='day', ylabel='cases'>"
          },
          "metadata": {}
        },
        {
          "output_type": "display_data",
          "data": {
            "text/plain": "<Figure size 432x288 with 1 Axes>",
            "image/png": "[encoded data removed]"
          },
          "metadata": {
            "needs_background": "light"
          }
        }
      ],
      "execution_count": 101,
      "metadata": {
        "jupyter": {
          "source_hidden": false,
          "outputs_hidden": false
        },
        "nteract": {
          "transient": {
            "deleting": false
          }
        },
        "gather": {
          "logged": 1645918851800
        }
      }
    },
    {
      "cell_type": "markdown",
      "source": [
        "## Model the New Zealand Population\r\n",
        "\r\n",
        "Roughly based on vaccine numbers from https://covid19.govt.nz/news-and-data/covid-19-data-and-statistics/ as of 2022-02-26."
      ],
      "metadata": {
        "nteract": {
          "transient": {
            "deleting": false
          }
        }
      }
    },
    {
      "cell_type": "markdown",
      "source": [
        "Let's give people some variation in their inate immunity, even in a totally naive population."
      ],
      "metadata": {
        "nteract": {
          "transient": {
            "deleting": false
          }
        }
      }
    },
    {
      "cell_type": "code",
      "source": [
        "n = 5127200\r\n",
        "pop = np.random.beta(2,30,n)\r\n",
        "plt.hist(pop)\r\n",
        "print(pop.mean())"
      ],
      "outputs": [
        {
          "output_type": "stream",
          "name": "stdout",
          "text": "0.06250930886735409\n"
        },
        {
          "output_type": "display_data",
          "data": {
            "text/plain": "<Figure size 432x288 with 1 Axes>",
            "image/png": "[encoded data removed]"
          },
          "metadata": {
            "needs_background": "light"
          }
        }
      ],
      "execution_count": 57,
      "metadata": {
        "jupyter": {
          "source_hidden": false,
          "outputs_hidden": false
        },
        "nteract": {
          "transient": {
            "deleting": false
          }
        },
        "gather": {
          "logged": 1645840969376
        }
      }
    },
    {
      "cell_type": "code",
      "source": [
        "vax_protection_inf = [0.0, 0.25, 0.33, 0.70]\r\n",
        "vax_protection_hos = [0.0, 0.50, 0.70, 0.85]"
      ],
      "outputs": [],
      "execution_count": 58,
      "metadata": {
        "jupyter": {
          "source_hidden": false,
          "outputs_hidden": false
        },
        "nteract": {
          "transient": {
            "deleting": false
          }
        },
        "gather": {
          "logged": 1645840971163
        }
      }
    },
    {
      "cell_type": "code",
      "source": [
        "ped_doses = 232_359\r\n",
        "doses = [\r\n",
        "    n,\r\n",
        "    4_017_924 + ped_doses,\r\n",
        "    3_956_862,\r\n",
        "    2_248_153,\r\n",
        "]\r\n",
        "\r\n",
        "\r\n",
        "print(\"\\nd=0\")\r\n",
        "print(pop.mean(), pop.std(), pop.min(), pop.max())\r\n",
        "\r\n",
        "std=0.05\r\n",
        "\r\n",
        "\r\n",
        "d=1\r\n",
        "vaxed = np.random.choice(n, size=doses[d])\r\n",
        "protection = np.random.normal(vax_protection_inf[d], std, size=doses[d])\r\n",
        "pop[vaxed] += protection\r\n",
        "pop = pop.clip(0,1)\r\n",
        "print(f\"\\nd={d}\")\r\n",
        "print(len(vaxed))\r\n",
        "print(protection.mean(), protection.std())\r\n",
        "print(pop.mean(), pop.std(), pop.min(), pop.max())\r\n",
        "\r\n",
        "\r\n",
        "d=2\r\n",
        "vaxed = np.random.choice(vaxed, size=doses[d])\r\n",
        "pop[vaxed] += np.random.normal(vax_protection_inf[d]-vax_protection_inf[d-1], std, size=doses[d])\r\n",
        "pop = pop.clip(0,1)\r\n",
        "print(f\"\\nd={d}\")\r\n",
        "print(len(vaxed))\r\n",
        "print(protection.mean(), protection.std())\r\n",
        "print(pop.mean(), pop.std(), pop.min(), pop.max())\r\n",
        "\r\n",
        "d=3\r\n",
        "vaxed = np.random.choice(vaxed, size=doses[d])\r\n",
        "pop[vaxed] += np.random.normal(vax_protection_inf[d]-vax_protection_inf[d-1], std, size=doses[d])\r\n",
        "pop = pop.clip(0,1)\r\n",
        "print(f\"\\nd={d}\")\r\n",
        "print(len(vaxed))\r\n",
        "print(protection.mean(), protection.std())\r\n",
        "print(pop.mean(), pop.std(), pop.min(), pop.max())\r\n",
        "\r\n",
        "doses = [\r\n",
        "    doses[0]-doses[1],\r\n",
        "    doses[1]-doses[2],\r\n",
        "    doses[2]-doses[3],\r\n",
        "    doses[3]\r\n",
        "]\r\n",
        "print(doses)\r\n",
        "print(sum(doses))"
      ],
      "outputs": [
        {
          "output_type": "stream",
          "name": "stdout",
          "text": "\nd=0\n0.06250930886735409 0.04216373879530694 3.703736956020843e-05 0.4414423378100567\n\nd=1\n4250283\n0.24999755736224583 0.04997603537219009\n0.20341082622359846 0.13621284208335757 3.703736956020843e-05 0.751389924567571\n\nd=2\n3956862\n0.24999755736224583 0.04997603537219009\n0.23499764136035928 0.16721121001667957 3.703736956020843e-05 0.8416941791232149\n\nd=3\n2248153\n0.24999755736224583 0.04997603537219009\n0.3239492559347435 0.2855012307894706 3.703736956020843e-05 1.0\n[876917, 293421, 1708709, 2248153]\n5127200\n"
        }
      ],
      "execution_count": 59,
      "metadata": {
        "jupyter": {
          "source_hidden": false,
          "outputs_hidden": false
        },
        "nteract": {
          "transient": {
            "deleting": false
          }
        },
        "gather": {
          "logged": 1645840974335
        }
      }
    },
    {
      "cell_type": "code",
      "source": [
        "plt.hist(pop)"
      ],
      "outputs": [
        {
          "output_type": "execute_result",
          "execution_count": 60,
          "data": {
            "text/plain": "(array([1857671.,  394722.,  467377.,  734656.,  360358.,  123855.,\n         275018.,  490809.,  326209.,   96525.]),\n array([3.70373696e-05, 1.00033334e-01, 2.00029630e-01, 3.00025926e-01,\n        4.00022222e-01, 5.00018519e-01, 6.00014815e-01, 7.00011111e-01,\n        8.00007407e-01, 9.00003704e-01, 1.00000000e+00]),\n <BarContainer object of 10 artists>)"
          },
          "metadata": {}
        },
        {
          "output_type": "display_data",
          "data": {
            "text/plain": "<Figure size 432x288 with 1 Axes>",
            "image/png": "[encoded data removed]"
          },
          "metadata": {
            "needs_background": "light"
          }
        }
      ],
      "execution_count": 60,
      "metadata": {
        "jupyter": {
          "source_hidden": false,
          "outputs_hidden": false
        },
        "nteract": {
          "transient": {
            "deleting": false
          }
        },
        "gather": {
          "logged": 1645840975152
        }
      }
    },
    {
      "cell_type": "code",
      "source": [
        "cases = np.zeros(n)\r\n",
        "cases[0] = 10\r\n",
        "\r\n",
        "n_cases = []\r\n",
        "for i in tqdm(range(365)):\r\n",
        "    cases = spread(cases, pop, n=n, r0=15)\r\n",
        "    cases, pop = recover(cases, pop, waning_immunity=0.9985)\r\n",
        "    n_cases.append(sum(cases>0))\r\n",
        "\r\n",
        "plt.plot(n_cases)"
      ],
      "outputs": [
        {
          "output_type": "stream",
          "name": "stderr",
          "text": "100%|██████████| 365/365 [2:35:24<00:00, 25.55s/it]  \n"
        },
        {
          "output_type": "execute_result",
          "execution_count": 61,
          "data": {
            "text/plain": "[<matplotlib.lines.Line2D at 0x7f3b182971c0>]"
          },
          "metadata": {}
        },
        {
          "output_type": "display_data",
          "data": {
            "text/plain": "<Figure size 432x288 with 1 Axes>",
            "image/png": "[encoded data removed]"
          },
          "metadata": {
            "needs_background": "light"
          }
        }
      ],
      "execution_count": 61,
      "metadata": {
        "jupyter": {
          "source_hidden": false,
          "outputs_hidden": false
        },
        "nteract": {
          "transient": {
            "deleting": false
          }
        },
        "gather": {
          "logged": 1645850311714
        }
      }
    },
    {
      "cell_type": "markdown",
      "source": [
        "## Distributions"
      ],
      "metadata": {
        "nteract": {
          "transient": {
            "deleting": false
          }
        }
      }
    },
    {
      "cell_type": "code",
      "source": [
        "plt.hist(x=(np.random.beta(3,2,1000)*10).astype(int))"
      ],
      "outputs": [
        {
          "output_type": "execute_result",
          "execution_count": 625,
          "data": {
            "text/plain": "(array([  4.,  25.,  59.,  95., 132., 178., 176., 158., 130.,  43.]),\n array([0. , 0.9, 1.8, 2.7, 3.6, 4.5, 5.4, 6.3, 7.2, 8.1, 9. ]),\n <a list of 10 Patch objects>)"
          },
          "metadata": {}
        },
        {
          "output_type": "display_data",
          "data": {
            "text/plain": "<Figure size 432x288 with 1 Axes>",
            "image/png": "[encoded data removed]"
          },
          "metadata": {
            "needs_background": "light"
          }
        }
      ],
      "execution_count": 625,
      "metadata": {
        "jupyter": {
          "source_hidden": false,
          "outputs_hidden": false
        },
        "nteract": {
          "transient": {
            "deleting": false
          }
        },
        "gather": {
          "logged": 1645831339732
        }
      }
    },
    {
      "cell_type": "code",
      "source": [
        "import seaborn as sns\r\n",
        "z = np.random.lognormal(1.5, 1, 1000) / np.exp(1.5 + 1/2)\r\n",
        "print(z.mean(), np.exp(0 + 1/2))\r\n",
        "sns.kdeplot(z)"
      ],
      "outputs": [],
      "execution_count": null,
      "metadata": {
        "jupyter": {
          "source_hidden": false,
          "outputs_hidden": false
        },
        "nteract": {
          "transient": {
            "deleting": false
          }
        },
        "gather": {
          "logged": 1645831340005
        }
      }
    },
    {
      "cell_type": "code",
      "source": [
        "def mode_of_beta(a,b):\r\n",
        "    if a < 1 and b < 1:\r\n",
        "        return (0,1)\r\n",
        "    if a <=1 and b > 1:\r\n",
        "        return 0\r\n",
        "    if a > 1 and b <= 1:\r\n",
        "        return 1\r\n",
        "    return (a-1) / (a+b-2)"
      ],
      "outputs": [],
      "execution_count": 618,
      "metadata": {
        "jupyter": {
          "source_hidden": false,
          "outputs_hidden": false
        },
        "nteract": {
          "transient": {
            "deleting": false
          }
        },
        "gather": {
          "logged": 1645831220472
        }
      }
    },
    {
      "cell_type": "code",
      "source": [
        "mode_of_beta(10,2)"
      ],
      "outputs": [
        {
          "output_type": "execute_result",
          "execution_count": 619,
          "data": {
            "text/plain": "0.9"
          },
          "metadata": {}
        }
      ],
      "execution_count": 619,
      "metadata": {
        "jupyter": {
          "source_hidden": false,
          "outputs_hidden": false
        },
        "nteract": {
          "transient": {
            "deleting": false
          }
        },
        "gather": {
          "logged": 1645831220701
        }
      }
    },
    {
      "cell_type": "code",
      "source": [
        "n=365\r\n",
        "x=np.ones(n)\r\n",
        "for i in range(1,n):\r\n",
        "    x[i] = x[i-1]*0.999\r\n",
        "plt.plot(x)"
      ],
      "outputs": [
        {
          "output_type": "execute_result",
          "execution_count": 65,
          "data": {
            "text/plain": "[<matplotlib.lines.Line2D at 0x7f3b1812f5e0>]"
          },
          "metadata": {}
        },
        {
          "output_type": "display_data",
          "data": {
            "text/plain": "<Figure size 432x288 with 1 Axes>",
            "image/png": "[encoded data removed]"
          },
          "metadata": {
            "needs_background": "light"
          }
        }
      ],
      "execution_count": 65,
      "metadata": {
        "jupyter": {
          "source_hidden": false,
          "outputs_hidden": false
        },
        "nteract": {
          "transient": {
            "deleting": false
          }
        },
        "gather": {
          "logged": 1645858168865
        }
      }
    },
    {
      "cell_type": "code",
      "source": [],
      "outputs": [],
      "execution_count": null,
      "metadata": {
        "jupyter": {
          "source_hidden": false,
          "outputs_hidden": false
        },
        "nteract": {
          "transient": {
            "deleting": false
          }
        }
      }
    }
  ],
  "metadata": {
    "kernelspec": {
      "name": "azureml_py38_pt_tf",
      "language": "python",
      "display_name": "Python 3.8 - Pytorch and Tensorflow"
    },
    "language_info": {
      "name": "python",
      "version": "3.8.1",
      "mimetype": "text/x-python",
      "codemirror_mode": {
        "name": "ipython",
        "version": 3
      },
      "pygments_lexer": "ipython3",
      "nbconvert_exporter": "python",
      "file_extension": ".py"
    },
    "kernel_info": {
      "name": "azureml_py38_pt_tf"
    },
    "microsoft": {
      "host": {
        "AzureML": {
          "notebookHasBeenCompleted": true
        }
      }
    },
    "nteract": {
      "version": "nteract-front-end@1.0.0"
    }
  },
  "nbformat": 4,
  "nbformat_minor": 2
}