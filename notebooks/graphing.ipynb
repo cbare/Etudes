{
 "cells": [
  {
   "cell_type": "markdown",
   "metadata": {},
   "source": [
    "# Graphing mathematical functions with Altair"
   ]
  },
  {
   "cell_type": "markdown",
   "metadata": {},
   "source": [
    "[Altair][1] is a python graphing package by Jake VanderPlas. Let's give it a try.\n",
    "\n",
    "[1]: https://altair-viz.github.io/index.html"
   ]
  },
  {
   "cell_type": "code",
   "execution_count": 1,
   "metadata": {},
   "outputs": [],
   "source": [
    "import altair as alt\n",
    "import pandas as pd\n",
    "import numpy as np"
   ]
  },
  {
   "cell_type": "markdown",
   "metadata": {},
   "source": [
    "## Line"
   ]
  },
  {
   "cell_type": "code",
   "execution_count": 30,
   "metadata": {},
   "outputs": [],
   "source": [
    "x = np.arange(-10, 11, 1)\n",
    "y = 2 * x + 3"
   ]
  },
  {
   "cell_type": "code",
   "execution_count": 31,
   "metadata": {},
   "outputs": [
    {
     "data": {
      "text/plain": [
       "array([-17, -15, -13, -11,  -9,  -7,  -5,  -3,  -1,   1,   3,   5,   7,\n",
       "         9,  11,  13,  15,  17,  19,  21,  23])"
      ]
     },
     "execution_count": 31,
     "metadata": {},
     "output_type": "execute_result"
    }
   ],
   "source": [
    "y"
   ]
  },
  {
   "cell_type": "code",
   "execution_count": 32,
   "metadata": {},
   "outputs": [],
   "source": [
    "source = pd.DataFrame({\n",
    "  'x': x,\n",
    "  'y': y\n",
    "})"
   ]
  },
  {
   "cell_type": "code",
   "execution_count": 33,
   "metadata": {},
   "outputs": [
    {
     "data": {
      "text/html": [
       "<div>\n",
       "<style scoped>\n",
       "    .dataframe tbody tr th:only-of-type {\n",
       "        vertical-align: middle;\n",
       "    }\n",
       "\n",
       "    .dataframe tbody tr th {\n",
       "        vertical-align: top;\n",
       "    }\n",
       "\n",
       "    .dataframe thead th {\n",
       "        text-align: right;\n",
       "    }\n",
       "</style>\n",
       "<table border=\"1\" class=\"dataframe\">\n",
       "  <thead>\n",
       "    <tr style=\"text-align: right;\">\n",
       "      <th></th>\n",
       "      <th>x</th>\n",
       "      <th>y</th>\n",
       "    </tr>\n",
       "  </thead>\n",
       "  <tbody>\n",
       "    <tr>\n",
       "      <th>0</th>\n",
       "      <td>-10</td>\n",
       "      <td>-17</td>\n",
       "    </tr>\n",
       "    <tr>\n",
       "      <th>1</th>\n",
       "      <td>-9</td>\n",
       "      <td>-15</td>\n",
       "    </tr>\n",
       "    <tr>\n",
       "      <th>2</th>\n",
       "      <td>-8</td>\n",
       "      <td>-13</td>\n",
       "    </tr>\n",
       "    <tr>\n",
       "      <th>3</th>\n",
       "      <td>-7</td>\n",
       "      <td>-11</td>\n",
       "    </tr>\n",
       "    <tr>\n",
       "      <th>4</th>\n",
       "      <td>-6</td>\n",
       "      <td>-9</td>\n",
       "    </tr>\n",
       "    <tr>\n",
       "      <th>5</th>\n",
       "      <td>-5</td>\n",
       "      <td>-7</td>\n",
       "    </tr>\n",
       "    <tr>\n",
       "      <th>6</th>\n",
       "      <td>-4</td>\n",
       "      <td>-5</td>\n",
       "    </tr>\n",
       "    <tr>\n",
       "      <th>7</th>\n",
       "      <td>-3</td>\n",
       "      <td>-3</td>\n",
       "    </tr>\n",
       "    <tr>\n",
       "      <th>8</th>\n",
       "      <td>-2</td>\n",
       "      <td>-1</td>\n",
       "    </tr>\n",
       "    <tr>\n",
       "      <th>9</th>\n",
       "      <td>-1</td>\n",
       "      <td>1</td>\n",
       "    </tr>\n",
       "    <tr>\n",
       "      <th>10</th>\n",
       "      <td>0</td>\n",
       "      <td>3</td>\n",
       "    </tr>\n",
       "    <tr>\n",
       "      <th>11</th>\n",
       "      <td>1</td>\n",
       "      <td>5</td>\n",
       "    </tr>\n",
       "    <tr>\n",
       "      <th>12</th>\n",
       "      <td>2</td>\n",
       "      <td>7</td>\n",
       "    </tr>\n",
       "    <tr>\n",
       "      <th>13</th>\n",
       "      <td>3</td>\n",
       "      <td>9</td>\n",
       "    </tr>\n",
       "    <tr>\n",
       "      <th>14</th>\n",
       "      <td>4</td>\n",
       "      <td>11</td>\n",
       "    </tr>\n",
       "    <tr>\n",
       "      <th>15</th>\n",
       "      <td>5</td>\n",
       "      <td>13</td>\n",
       "    </tr>\n",
       "    <tr>\n",
       "      <th>16</th>\n",
       "      <td>6</td>\n",
       "      <td>15</td>\n",
       "    </tr>\n",
       "    <tr>\n",
       "      <th>17</th>\n",
       "      <td>7</td>\n",
       "      <td>17</td>\n",
       "    </tr>\n",
       "    <tr>\n",
       "      <th>18</th>\n",
       "      <td>8</td>\n",
       "      <td>19</td>\n",
       "    </tr>\n",
       "    <tr>\n",
       "      <th>19</th>\n",
       "      <td>9</td>\n",
       "      <td>21</td>\n",
       "    </tr>\n",
       "    <tr>\n",
       "      <th>20</th>\n",
       "      <td>10</td>\n",
       "      <td>23</td>\n",
       "    </tr>\n",
       "  </tbody>\n",
       "</table>\n",
       "</div>"
      ],
      "text/plain": [
       "     x   y\n",
       "0  -10 -17\n",
       "1   -9 -15\n",
       "2   -8 -13\n",
       "3   -7 -11\n",
       "4   -6  -9\n",
       "5   -5  -7\n",
       "6   -4  -5\n",
       "7   -3  -3\n",
       "8   -2  -1\n",
       "9   -1   1\n",
       "10   0   3\n",
       "11   1   5\n",
       "12   2   7\n",
       "13   3   9\n",
       "14   4  11\n",
       "15   5  13\n",
       "16   6  15\n",
       "17   7  17\n",
       "18   8  19\n",
       "19   9  21\n",
       "20  10  23"
      ]
     },
     "execution_count": 33,
     "metadata": {},
     "output_type": "execute_result"
    }
   ],
   "source": [
    "source"
   ]
  },
  {
   "cell_type": "code",
   "execution_count": 34,
   "metadata": {},
   "outputs": [
    {
     "data": {
      "text/html": [
       "\n",
       "<div id=\"altair-viz-a9a1db7676b44d52b8c43665a0562b1d\"></div>\n",
       "<script type=\"text/javascript\">\n",
       "  (function(spec, embedOpt){\n",
       "    let outputDiv = document.currentScript.previousElementSibling;\n",
       "    if (outputDiv.id !== \"altair-viz-a9a1db7676b44d52b8c43665a0562b1d\") {\n",
       "      outputDiv = document.getElementById(\"altair-viz-a9a1db7676b44d52b8c43665a0562b1d\");\n",
       "    }\n",
       "    const paths = {\n",
       "      \"vega\": \"https://cdn.jsdelivr.net/npm//vega@5?noext\",\n",
       "      \"vega-lib\": \"https://cdn.jsdelivr.net/npm//vega-lib?noext\",\n",
       "      \"vega-lite\": \"https://cdn.jsdelivr.net/npm//vega-lite@4.8.1?noext\",\n",
       "      \"vega-embed\": \"https://cdn.jsdelivr.net/npm//vega-embed@6?noext\",\n",
       "    };\n",
       "\n",
       "    function loadScript(lib) {\n",
       "      return new Promise(function(resolve, reject) {\n",
       "        var s = document.createElement('script');\n",
       "        s.src = paths[lib];\n",
       "        s.async = true;\n",
       "        s.onload = () => resolve(paths[lib]);\n",
       "        s.onerror = () => reject(`Error loading script: ${paths[lib]}`);\n",
       "        document.getElementsByTagName(\"head\")[0].appendChild(s);\n",
       "      });\n",
       "    }\n",
       "\n",
       "    function showError(err) {\n",
       "      outputDiv.innerHTML = `<div class=\"error\" style=\"color:red;\">${err}</div>`;\n",
       "      throw err;\n",
       "    }\n",
       "\n",
       "    function displayChart(vegaEmbed) {\n",
       "      vegaEmbed(outputDiv, spec, embedOpt)\n",
       "        .catch(err => showError(`Javascript Error: ${err.message}<br>This usually means there's a typo in your chart specification. See the javascript console for the full traceback.`));\n",
       "    }\n",
       "\n",
       "    if(typeof define === \"function\" && define.amd) {\n",
       "      requirejs.config({paths});\n",
       "      require([\"vega-embed\"], displayChart, err => showError(`Error loading script: ${err.message}`));\n",
       "    } else if (typeof vegaEmbed === \"function\") {\n",
       "      displayChart(vegaEmbed);\n",
       "    } else {\n",
       "      loadScript(\"vega\")\n",
       "        .then(() => loadScript(\"vega-lite\"))\n",
       "        .then(() => loadScript(\"vega-embed\"))\n",
       "        .catch(showError)\n",
       "        .then(() => displayChart(vegaEmbed));\n",
       "    }\n",
       "  })({\"config\": {\"view\": {\"continuousWidth\": 400, \"continuousHeight\": 300}}, \"data\": {\"name\": \"data-feae0fa0a39a34d9abf79535dda2ed9d\"}, \"mark\": {\"type\": \"line\", \"clip\": true, \"point\": true}, \"encoding\": {\"x\": {\"type\": \"quantitative\", \"field\": \"x\", \"scale\": {\"domain\": [-20, 20]}}, \"y\": {\"type\": \"quantitative\", \"field\": \"y\"}}, \"$schema\": \"https://vega.github.io/schema/vega-lite/v4.8.1.json\", \"datasets\": {\"data-feae0fa0a39a34d9abf79535dda2ed9d\": [{\"x\": -10, \"y\": -17}, {\"x\": -9, \"y\": -15}, {\"x\": -8, \"y\": -13}, {\"x\": -7, \"y\": -11}, {\"x\": -6, \"y\": -9}, {\"x\": -5, \"y\": -7}, {\"x\": -4, \"y\": -5}, {\"x\": -3, \"y\": -3}, {\"x\": -2, \"y\": -1}, {\"x\": -1, \"y\": 1}, {\"x\": 0, \"y\": 3}, {\"x\": 1, \"y\": 5}, {\"x\": 2, \"y\": 7}, {\"x\": 3, \"y\": 9}, {\"x\": 4, \"y\": 11}, {\"x\": 5, \"y\": 13}, {\"x\": 6, \"y\": 15}, {\"x\": 7, \"y\": 17}, {\"x\": 8, \"y\": 19}, {\"x\": 9, \"y\": 21}, {\"x\": 10, \"y\": 23}]}}, {\"mode\": \"vega-lite\"});\n",
       "</script>"
      ],
      "text/plain": [
       "alt.Chart(...)"
      ]
     },
     "execution_count": 34,
     "metadata": {},
     "output_type": "execute_result"
    }
   ],
   "source": [
    "alt.Chart(source).mark_line(point=True, clip=True).encode(\n",
    "    alt.X('x',\n",
    "        scale=alt.Scale(domain=(-20, 20))\n",
    "    ),\n",
    "    y='y'\n",
    ")"
   ]
  },
  {
   "cell_type": "markdown",
   "metadata": {},
   "source": [
    "## Parabola"
   ]
  },
  {
   "cell_type": "code",
   "execution_count": 180,
   "metadata": {},
   "outputs": [],
   "source": [
    "x = np.arange(-10, 11, 1)\n",
    "y = x**2"
   ]
  },
  {
   "cell_type": "code",
   "execution_count": 181,
   "metadata": {},
   "outputs": [],
   "source": [
    "source = pd.DataFrame({\n",
    "  'x': x,\n",
    "  'y': y\n",
    "})"
   ]
  },
  {
   "cell_type": "code",
   "execution_count": 182,
   "metadata": {},
   "outputs": [
    {
     "data": {
      "text/html": [
       "\n",
       "<div id=\"altair-viz-1a35bd5db9c4469eacff1b05e42316bb\"></div>\n",
       "<script type=\"text/javascript\">\n",
       "  (function(spec, embedOpt){\n",
       "    let outputDiv = document.currentScript.previousElementSibling;\n",
       "    if (outputDiv.id !== \"altair-viz-1a35bd5db9c4469eacff1b05e42316bb\") {\n",
       "      outputDiv = document.getElementById(\"altair-viz-1a35bd5db9c4469eacff1b05e42316bb\");\n",
       "    }\n",
       "    const paths = {\n",
       "      \"vega\": \"https://cdn.jsdelivr.net/npm//vega@5?noext\",\n",
       "      \"vega-lib\": \"https://cdn.jsdelivr.net/npm//vega-lib?noext\",\n",
       "      \"vega-lite\": \"https://cdn.jsdelivr.net/npm//vega-lite@4.8.1?noext\",\n",
       "      \"vega-embed\": \"https://cdn.jsdelivr.net/npm//vega-embed@6?noext\",\n",
       "    };\n",
       "\n",
       "    function loadScript(lib) {\n",
       "      return new Promise(function(resolve, reject) {\n",
       "        var s = document.createElement('script');\n",
       "        s.src = paths[lib];\n",
       "        s.async = true;\n",
       "        s.onload = () => resolve(paths[lib]);\n",
       "        s.onerror = () => reject(`Error loading script: ${paths[lib]}`);\n",
       "        document.getElementsByTagName(\"head\")[0].appendChild(s);\n",
       "      });\n",
       "    }\n",
       "\n",
       "    function showError(err) {\n",
       "      outputDiv.innerHTML = `<div class=\"error\" style=\"color:red;\">${err}</div>`;\n",
       "      throw err;\n",
       "    }\n",
       "\n",
       "    function displayChart(vegaEmbed) {\n",
       "      vegaEmbed(outputDiv, spec, embedOpt)\n",
       "        .catch(err => showError(`Javascript Error: ${err.message}<br>This usually means there's a typo in your chart specification. See the javascript console for the full traceback.`));\n",
       "    }\n",
       "\n",
       "    if(typeof define === \"function\" && define.amd) {\n",
       "      requirejs.config({paths});\n",
       "      require([\"vega-embed\"], displayChart, err => showError(`Error loading script: ${err.message}`));\n",
       "    } else if (typeof vegaEmbed === \"function\") {\n",
       "      displayChart(vegaEmbed);\n",
       "    } else {\n",
       "      loadScript(\"vega\")\n",
       "        .then(() => loadScript(\"vega-lite\"))\n",
       "        .then(() => loadScript(\"vega-embed\"))\n",
       "        .catch(showError)\n",
       "        .then(() => displayChart(vegaEmbed));\n",
       "    }\n",
       "  })({\"config\": {\"view\": {\"continuousWidth\": 400, \"continuousHeight\": 300}}, \"data\": {\"name\": \"data-89a6f333344fa578bade3a082c4440b3\"}, \"mark\": {\"type\": \"line\", \"point\": true}, \"encoding\": {\"x\": {\"type\": \"quantitative\", \"field\": \"x\"}, \"y\": {\"type\": \"quantitative\", \"field\": \"y\"}}, \"$schema\": \"https://vega.github.io/schema/vega-lite/v4.8.1.json\", \"datasets\": {\"data-89a6f333344fa578bade3a082c4440b3\": [{\"x\": -10, \"y\": 100}, {\"x\": -9, \"y\": 81}, {\"x\": -8, \"y\": 64}, {\"x\": -7, \"y\": 49}, {\"x\": -6, \"y\": 36}, {\"x\": -5, \"y\": 25}, {\"x\": -4, \"y\": 16}, {\"x\": -3, \"y\": 9}, {\"x\": -2, \"y\": 4}, {\"x\": -1, \"y\": 1}, {\"x\": 0, \"y\": 0}, {\"x\": 1, \"y\": 1}, {\"x\": 2, \"y\": 4}, {\"x\": 3, \"y\": 9}, {\"x\": 4, \"y\": 16}, {\"x\": 5, \"y\": 25}, {\"x\": 6, \"y\": 36}, {\"x\": 7, \"y\": 49}, {\"x\": 8, \"y\": 64}, {\"x\": 9, \"y\": 81}, {\"x\": 10, \"y\": 100}]}}, {\"mode\": \"vega-lite\"});\n",
       "</script>"
      ],
      "text/plain": [
       "alt.Chart(...)"
      ]
     },
     "execution_count": 182,
     "metadata": {},
     "output_type": "execute_result"
    }
   ],
   "source": [
    "alt.Chart(source).mark_line(point=True).encode(\n",
    "    x=alt.X('x'),\n",
    "    y='y'\n",
    ")"
   ]
  },
  {
   "cell_type": "markdown",
   "metadata": {},
   "source": [
    "## Square root"
   ]
  },
  {
   "cell_type": "code",
   "execution_count": 67,
   "metadata": {},
   "outputs": [],
   "source": [
    "x = np.arange(0, 26, 0.1)\n",
    "y = np.sqrt(x)"
   ]
  },
  {
   "cell_type": "code",
   "execution_count": 68,
   "metadata": {},
   "outputs": [],
   "source": [
    "source = pd.DataFrame({\n",
    "  'x': x,\n",
    "  'y': y\n",
    "})"
   ]
  },
  {
   "cell_type": "code",
   "execution_count": 76,
   "metadata": {},
   "outputs": [
    {
     "data": {
      "text/html": [
       "\n",
       "<div id=\"altair-viz-2639745daf154c419ba8401de4505d73\"></div>\n",
       "<script type=\"text/javascript\">\n",
       "  (function(spec, embedOpt){\n",
       "    let outputDiv = document.currentScript.previousElementSibling;\n",
       "    if (outputDiv.id !== \"altair-viz-2639745daf154c419ba8401de4505d73\") {\n",
       "      outputDiv = document.getElementById(\"altair-viz-2639745daf154c419ba8401de4505d73\");\n",
       "    }\n",
       "    const paths = {\n",
       "      \"vega\": \"https://cdn.jsdelivr.net/npm//vega@5?noext\",\n",
       "      \"vega-lib\": \"https://cdn.jsdelivr.net/npm//vega-lib?noext\",\n",
       "      \"vega-lite\": \"https://cdn.jsdelivr.net/npm//vega-lite@4.8.1?noext\",\n",
       "      \"vega-embed\": \"https://cdn.jsdelivr.net/npm//vega-embed@6?noext\",\n",
       "    };\n",
       "\n",
       "    function loadScript(lib) {\n",
       "      return new Promise(function(resolve, reject) {\n",
       "        var s = document.createElement('script');\n",
       "        s.src = paths[lib];\n",
       "        s.async = true;\n",
       "        s.onload = () => resolve(paths[lib]);\n",
       "        s.onerror = () => reject(`Error loading script: ${paths[lib]}`);\n",
       "        document.getElementsByTagName(\"head\")[0].appendChild(s);\n",
       "      });\n",
       "    }\n",
       "\n",
       "    function showError(err) {\n",
       "      outputDiv.innerHTML = `<div class=\"error\" style=\"color:red;\">${err}</div>`;\n",
       "      throw err;\n",
       "    }\n",
       "\n",
       "    function displayChart(vegaEmbed) {\n",
       "      vegaEmbed(outputDiv, spec, embedOpt)\n",
       "        .catch(err => showError(`Javascript Error: ${err.message}<br>This usually means there's a typo in your chart specification. See the javascript console for the full traceback.`));\n",
       "    }\n",
       "\n",
       "    if(typeof define === \"function\" && define.amd) {\n",
       "      requirejs.config({paths});\n",
       "      require([\"vega-embed\"], displayChart, err => showError(`Error loading script: ${err.message}`));\n",
       "    } else if (typeof vegaEmbed === \"function\") {\n",
       "      displayChart(vegaEmbed);\n",
       "    } else {\n",
       "      loadScript(\"vega\")\n",
       "        .then(() => loadScript(\"vega-lite\"))\n",
       "        .then(() => loadScript(\"vega-embed\"))\n",
       "        .catch(showError)\n",
       "        .then(() => displayChart(vegaEmbed));\n",
       "    }\n",
       "  })({\"config\": {\"view\": {\"continuousWidth\": 400, \"continuousHeight\": 300}}, \"data\": {\"name\": \"data-9d705c67f86db04ee2b199c9be1d7a4f\"}, \"mark\": {\"type\": \"line\", \"point\": true}, \"encoding\": {\"x\": {\"type\": \"quantitative\", \"field\": \"x\"}, \"y\": {\"type\": \"quantitative\", \"field\": \"y\"}}, \"height\": 500, \"width\": 700, \"$schema\": \"https://vega.github.io/schema/vega-lite/v4.8.1.json\", \"datasets\": {\"data-9d705c67f86db04ee2b199c9be1d7a4f\": [{\"x\": 0.0, \"y\": 0.0}, {\"x\": 0.1, \"y\": 0.31622776601683794}, {\"x\": 0.2, \"y\": 0.4472135954999579}, {\"x\": 0.30000000000000004, \"y\": 0.5477225575051662}, {\"x\": 0.4, \"y\": 0.6324555320336759}, {\"x\": 0.5, \"y\": 0.7071067811865476}, {\"x\": 0.6000000000000001, \"y\": 0.7745966692414834}, {\"x\": 0.7000000000000001, \"y\": 0.8366600265340756}, {\"x\": 0.8, \"y\": 0.8944271909999159}, {\"x\": 0.9, \"y\": 0.9486832980505138}, {\"x\": 1.0, \"y\": 1.0}, {\"x\": 1.1, \"y\": 1.0488088481701516}, {\"x\": 1.2000000000000002, \"y\": 1.0954451150103324}, {\"x\": 1.3, \"y\": 1.140175425099138}, {\"x\": 1.4000000000000001, \"y\": 1.1832159566199232}, {\"x\": 1.5, \"y\": 1.224744871391589}, {\"x\": 1.6, \"y\": 1.2649110640673518}, {\"x\": 1.7000000000000002, \"y\": 1.3038404810405297}, {\"x\": 1.8, \"y\": 1.3416407864998738}, {\"x\": 1.9000000000000001, \"y\": 1.3784048752090223}, {\"x\": 2.0, \"y\": 1.4142135623730951}, {\"x\": 2.1, \"y\": 1.449137674618944}, {\"x\": 2.2, \"y\": 1.4832396974191326}, {\"x\": 2.3000000000000003, \"y\": 1.5165750888103102}, {\"x\": 2.4000000000000004, \"y\": 1.5491933384829668}, {\"x\": 2.5, \"y\": 1.5811388300841898}, {\"x\": 2.6, \"y\": 1.61245154965971}, {\"x\": 2.7, \"y\": 1.6431676725154984}, {\"x\": 2.8000000000000003, \"y\": 1.6733200530681511}, {\"x\": 2.9000000000000004, \"y\": 1.7029386365926402}, {\"x\": 3.0, \"y\": 1.7320508075688772}, {\"x\": 3.1, \"y\": 1.760681686165901}, {\"x\": 3.2, \"y\": 1.7888543819998317}, {\"x\": 3.3000000000000003, \"y\": 1.8165902124584952}, {\"x\": 3.4000000000000004, \"y\": 1.8439088914585775}, {\"x\": 3.5, \"y\": 1.8708286933869707}, {\"x\": 3.6, \"y\": 1.8973665961010275}, {\"x\": 3.7, \"y\": 1.9235384061671346}, {\"x\": 3.8000000000000003, \"y\": 1.949358868961793}, {\"x\": 3.9000000000000004, \"y\": 1.97484176581315}, {\"x\": 4.0, \"y\": 2.0}, {\"x\": 4.1000000000000005, \"y\": 2.024845673131659}, {\"x\": 4.2, \"y\": 2.04939015319192}, {\"x\": 4.3, \"y\": 2.073644135332772}, {\"x\": 4.4, \"y\": 2.0976176963403033}, {\"x\": 4.5, \"y\": 2.1213203435596424}, {\"x\": 4.6000000000000005, \"y\": 2.1447610589527217}, {\"x\": 4.7, \"y\": 2.16794833886788}, {\"x\": 4.800000000000001, \"y\": 2.1908902300206647}, {\"x\": 4.9, \"y\": 2.2135943621178655}, {\"x\": 5.0, \"y\": 2.23606797749979}, {\"x\": 5.1000000000000005, \"y\": 2.2583179581272432}, {\"x\": 5.2, \"y\": 2.280350850198276}, {\"x\": 5.300000000000001, \"y\": 2.302172886644268}, {\"x\": 5.4, \"y\": 2.32379000772445}, {\"x\": 5.5, \"y\": 2.345207879911715}, {\"x\": 5.6000000000000005, \"y\": 2.3664319132398464}, {\"x\": 5.7, \"y\": 2.3874672772626644}, {\"x\": 5.800000000000001, \"y\": 2.4083189157584592}, {\"x\": 5.9, \"y\": 2.4289915602982237}, {\"x\": 6.0, \"y\": 2.449489742783178}, {\"x\": 6.1000000000000005, \"y\": 2.4698178070456938}, {\"x\": 6.2, \"y\": 2.4899799195977463}, {\"x\": 6.300000000000001, \"y\": 2.5099800796022267}, {\"x\": 6.4, \"y\": 2.5298221281347035}, {\"x\": 6.5, \"y\": 2.5495097567963922}, {\"x\": 6.6000000000000005, \"y\": 2.569046515733026}, {\"x\": 6.7, \"y\": 2.588435821108957}, {\"x\": 6.800000000000001, \"y\": 2.6076809620810595}, {\"x\": 6.9, \"y\": 2.6267851073127395}, {\"x\": 7.0, \"y\": 2.6457513110645907}, {\"x\": 7.1000000000000005, \"y\": 2.6645825188948455}, {\"x\": 7.2, \"y\": 2.6832815729997477}, {\"x\": 7.300000000000001, \"y\": 2.701851217221259}, {\"x\": 7.4, \"y\": 2.7202941017470885}, {\"x\": 7.5, \"y\": 2.7386127875258306}, {\"x\": 7.6000000000000005, \"y\": 2.7568097504180447}, {\"x\": 7.7, \"y\": 2.7748873851023217}, {\"x\": 7.800000000000001, \"y\": 2.7928480087537886}, {\"x\": 7.9, \"y\": 2.8106938645110393}, {\"x\": 8.0, \"y\": 2.8284271247461903}, {\"x\": 8.1, \"y\": 2.8460498941515415}, {\"x\": 8.200000000000001, \"y\": 2.863564212655271}, {\"x\": 8.3, \"y\": 2.8809720581775866}, {\"x\": 8.4, \"y\": 2.898275349237888}, {\"x\": 8.5, \"y\": 2.9154759474226504}, {\"x\": 8.6, \"y\": 2.932575659723036}, {\"x\": 8.700000000000001, \"y\": 2.9495762407505253}, {\"x\": 8.8, \"y\": 2.9664793948382653}, {\"x\": 8.9, \"y\": 2.9832867780352594}, {\"x\": 9.0, \"y\": 3.0}, {\"x\": 9.1, \"y\": 3.0166206257996713}, {\"x\": 9.200000000000001, \"y\": 3.0331501776206204}, {\"x\": 9.3, \"y\": 3.0495901363953815}, {\"x\": 9.4, \"y\": 3.0659419433511785}, {\"x\": 9.5, \"y\": 3.082207001484488}, {\"x\": 9.600000000000001, \"y\": 3.0983866769659336}, {\"x\": 9.700000000000001, \"y\": 3.1144823004794877}, {\"x\": 9.8, \"y\": 3.1304951684997055}, {\"x\": 9.9, \"y\": 3.146426544510455}, {\"x\": 10.0, \"y\": 3.1622776601683795}, {\"x\": 10.100000000000001, \"y\": 3.178049716414141}, {\"x\": 10.200000000000001, \"y\": 3.1937438845342627}, {\"x\": 10.3, \"y\": 3.2093613071762426}, {\"x\": 10.4, \"y\": 3.22490309931942}, {\"x\": 10.5, \"y\": 3.24037034920393}, {\"x\": 10.600000000000001, \"y\": 3.2557641192199416}, {\"x\": 10.700000000000001, \"y\": 3.2710854467592254}, {\"x\": 10.8, \"y\": 3.286335345030997}, {\"x\": 10.9, \"y\": 3.3015148038438356}, {\"x\": 11.0, \"y\": 3.3166247903554}, {\"x\": 11.100000000000001, \"y\": 3.3316662497915366}, {\"x\": 11.200000000000001, \"y\": 3.3466401061363023}, {\"x\": 11.3, \"y\": 3.361547262794322}, {\"x\": 11.4, \"y\": 3.3763886032268267}, {\"x\": 11.5, \"y\": 3.391164991562634}, {\"x\": 11.600000000000001, \"y\": 3.4058772731852804}, {\"x\": 11.700000000000001, \"y\": 3.420526275297414}, {\"x\": 11.8, \"y\": 3.4351128074635335}, {\"x\": 11.9, \"y\": 3.449637662132068}, {\"x\": 12.0, \"y\": 3.4641016151377544}, {\"x\": 12.100000000000001, \"y\": 3.4785054261852175}, {\"x\": 12.200000000000001, \"y\": 3.492849839314596}, {\"x\": 12.3, \"y\": 3.5071355833500366}, {\"x\": 12.4, \"y\": 3.521363372331802}, {\"x\": 12.5, \"y\": 3.5355339059327378}, {\"x\": 12.600000000000001, \"y\": 3.5496478698597698}, {\"x\": 12.700000000000001, \"y\": 3.5637059362410923}, {\"x\": 12.8, \"y\": 3.5777087639996634}, {\"x\": 12.9, \"y\": 3.591656999213594}, {\"x\": 13.0, \"y\": 3.605551275463989}, {\"x\": 13.100000000000001, \"y\": 3.6193922141707717}, {\"x\": 13.200000000000001, \"y\": 3.6331804249169903}, {\"x\": 13.3, \"y\": 3.646916505762094}, {\"x\": 13.4, \"y\": 3.6606010435446255}, {\"x\": 13.5, \"y\": 3.6742346141747673}, {\"x\": 13.600000000000001, \"y\": 3.687817782917155}, {\"x\": 13.700000000000001, \"y\": 3.7013511046643495}, {\"x\": 13.8, \"y\": 3.714835124201342}, {\"x\": 13.9, \"y\": 3.7282703764614498}, {\"x\": 14.0, \"y\": 3.7416573867739413}, {\"x\": 14.100000000000001, \"y\": 3.7549966711037177}, {\"x\": 14.200000000000001, \"y\": 3.7682887362833544}, {\"x\": 14.3, \"y\": 3.7815340802378077}, {\"x\": 14.4, \"y\": 3.794733192202055}, {\"x\": 14.5, \"y\": 3.8078865529319543}, {\"x\": 14.600000000000001, \"y\": 3.82099463490856}, {\"x\": 14.700000000000001, \"y\": 3.8340579025361627}, {\"x\": 14.8, \"y\": 3.847076812334269}, {\"x\": 14.9, \"y\": 3.8600518131237567}, {\"x\": 15.0, \"y\": 3.872983346207417}, {\"x\": 15.100000000000001, \"y\": 3.88587184554509}, {\"x\": 15.200000000000001, \"y\": 3.898717737923586}, {\"x\": 15.3, \"y\": 3.9115214431215892}, {\"x\": 15.4, \"y\": 3.924283374069717}, {\"x\": 15.5, \"y\": 3.9370039370059056}, {\"x\": 15.600000000000001, \"y\": 3.9496835316263}, {\"x\": 15.700000000000001, \"y\": 3.96232255123179}, {\"x\": 15.8, \"y\": 3.9749213828703582}, {\"x\": 15.9, \"y\": 3.987480407475377}, {\"x\": 16.0, \"y\": 4.0}, {\"x\": 16.1, \"y\": 4.012480529547776}, {\"x\": 16.2, \"y\": 4.024922359499621}, {\"x\": 16.3, \"y\": 4.03732584763727}, {\"x\": 16.400000000000002, \"y\": 4.049691346263318}, {\"x\": 16.5, \"y\": 4.06201920231798}, {\"x\": 16.6, \"y\": 4.0743097574926725}, {\"x\": 16.7, \"y\": 4.08656334834051}, {\"x\": 16.8, \"y\": 4.09878030638384}, {\"x\": 16.900000000000002, \"y\": 4.110960958218893}, {\"x\": 17.0, \"y\": 4.123105625617661}, {\"x\": 17.1, \"y\": 4.135214625627067}, {\"x\": 17.2, \"y\": 4.147288270665544}, {\"x\": 17.3, \"y\": 4.159326868617084}, {\"x\": 17.400000000000002, \"y\": 4.171330722922843}, {\"x\": 17.5, \"y\": 4.183300132670378}, {\"x\": 17.6, \"y\": 4.1952353926806065}, {\"x\": 17.7, \"y\": 4.207136793592526}, {\"x\": 17.8, \"y\": 4.219004621945797}, {\"x\": 17.900000000000002, \"y\": 4.230839160261236}, {\"x\": 18.0, \"y\": 4.242640687119285}, {\"x\": 18.1, \"y\": 4.254409477236529}, {\"x\": 18.2, \"y\": 4.266145801540309}, {\"x\": 18.3, \"y\": 4.277849927241488}, {\"x\": 18.400000000000002, \"y\": 4.2895221179054435}, {\"x\": 18.5, \"y\": 4.301162633521313}, {\"x\": 18.6, \"y\": 4.312771730569565}, {\"x\": 18.7, \"y\": 4.324349662087931}, {\"x\": 18.8, \"y\": 4.33589667773576}, {\"x\": 18.900000000000002, \"y\": 4.347413023856832}, {\"x\": 19.0, \"y\": 4.358898943540674}, {\"x\": 19.1, \"y\": 4.370354676682432}, {\"x\": 19.200000000000003, \"y\": 4.3817804600413295}, {\"x\": 19.3, \"y\": 4.39317652729776}, {\"x\": 19.400000000000002, \"y\": 4.404543109109048}, {\"x\": 19.5, \"y\": 4.415880433163924}, {\"x\": 19.6, \"y\": 4.427188724235731}, {\"x\": 19.700000000000003, \"y\": 4.43846820423443}, {\"x\": 19.8, \"y\": 4.449719092257398}, {\"x\": 19.900000000000002, \"y\": 4.460941604639093}, {\"x\": 20.0, \"y\": 4.47213595499958}, {\"x\": 20.1, \"y\": 4.483302354291979}, {\"x\": 20.200000000000003, \"y\": 4.494441010848846}, {\"x\": 20.3, \"y\": 4.505552130427524}, {\"x\": 20.400000000000002, \"y\": 4.5166359162544865}, {\"x\": 20.5, \"y\": 4.527692569068709}, {\"x\": 20.6, \"y\": 4.538722287164087}, {\"x\": 20.700000000000003, \"y\": 4.54972526643093}, {\"x\": 20.8, \"y\": 4.560701700396552}, {\"x\": 20.900000000000002, \"y\": 4.571651780264984}, {\"x\": 21.0, \"y\": 4.58257569495584}, {\"x\": 21.1, \"y\": 4.5934736311423405}, {\"x\": 21.200000000000003, \"y\": 4.604345773288536}, {\"x\": 21.3, \"y\": 4.61519230368573}, {\"x\": 21.400000000000002, \"y\": 4.626013402488152}, {\"x\": 21.5, \"y\": 4.636809247747852}, {\"x\": 21.6, \"y\": 4.6475800154489}, {\"x\": 21.700000000000003, \"y\": 4.658325879540847}, {\"x\": 21.8, \"y\": 4.669047011971501}, {\"x\": 21.900000000000002, \"y\": 4.679743582719036}, {\"x\": 22.0, \"y\": 4.69041575982343}, {\"x\": 22.1, \"y\": 4.701063709417263}, {\"x\": 22.200000000000003, \"y\": 4.711687595755899}, {\"x\": 22.3, \"y\": 4.722287581247038}, {\"x\": 22.400000000000002, \"y\": 4.732863826479693}, {\"x\": 22.5, \"y\": 4.743416490252569}, {\"x\": 22.6, \"y\": 4.753945729601885}, {\"x\": 22.700000000000003, \"y\": 4.764451699828639}, {\"x\": 22.8, \"y\": 4.774934554525329}, {\"x\": 22.900000000000002, \"y\": 4.78539444560216}, {\"x\": 23.0, \"y\": 4.795831523312719}, {\"x\": 23.1, \"y\": 4.806245936279167}, {\"x\": 23.200000000000003, \"y\": 4.8166378315169185}, {\"x\": 23.3, \"y\": 4.8270073544588685}, {\"x\": 23.400000000000002, \"y\": 4.83735464897913}, {\"x\": 23.5, \"y\": 4.847679857416329}, {\"x\": 23.6, \"y\": 4.857983120596447}, {\"x\": 23.700000000000003, \"y\": 4.868264577855235}, {\"x\": 23.8, \"y\": 4.878524367060187}, {\"x\": 23.900000000000002, \"y\": 4.888762624632127}, {\"x\": 24.0, \"y\": 4.898979485566356}, {\"x\": 24.1, \"y\": 4.909175083453431}, {\"x\": 24.200000000000003, \"y\": 4.919349550499538}, {\"x\": 24.3, \"y\": 4.929503017546495}, {\"x\": 24.400000000000002, \"y\": 4.9396356140913875}, {\"x\": 24.5, \"y\": 4.949747468305833}, {\"x\": 24.6, \"y\": 4.959838707054898}, {\"x\": 24.700000000000003, \"y\": 4.969909455915671}, {\"x\": 24.8, \"y\": 4.979959839195493}, {\"x\": 24.900000000000002, \"y\": 4.9899899799498595}, {\"x\": 25.0, \"y\": 5.0}, {\"x\": 25.1, \"y\": 5.0099900199501395}, {\"x\": 25.200000000000003, \"y\": 5.019960159204453}, {\"x\": 25.3, \"y\": 5.029910535983717}, {\"x\": 25.400000000000002, \"y\": 5.039841267341661}, {\"x\": 25.5, \"y\": 5.049752469181039}, {\"x\": 25.6, \"y\": 5.059644256269407}, {\"x\": 25.700000000000003, \"y\": 5.06951674225463}, {\"x\": 25.8, \"y\": 5.079370039680118}, {\"x\": 25.900000000000002, \"y\": 5.089204259999789}]}}, {\"mode\": \"vega-lite\"});\n",
       "</script>"
      ],
      "text/plain": [
       "alt.Chart(...)"
      ]
     },
     "execution_count": 76,
     "metadata": {},
     "output_type": "execute_result"
    }
   ],
   "source": [
    "a = alt.Chart(source).mark_line(point=True).encode(\n",
    "    x=alt.X('x'),\n",
    "    y='y'\n",
    ")\n",
    "a.properties(height=500, width=700)"
   ]
  },
  {
   "cell_type": "markdown",
   "metadata": {},
   "source": [
    "## Circle"
   ]
  },
  {
   "cell_type": "code",
   "execution_count": null,
   "metadata": {},
   "outputs": [],
   "source": [
    "r = 10\n",
    "i = 0.1\n",
    "x1 = np.arange(-10, 10.1, i)\n",
    "x2 = np.arange(10, -10.1, -i)\n",
    "\n",
    "y1 = np.sqrt(r**2 - x1**2)\n",
    "y2 = -np.sqrt(r**2 - x2**2)\n",
    "\n",
    "x = np.concatenate((x1, x2))\n",
    "y = np.concatenate((y1, y2))"
   ]
  },
  {
   "cell_type": "code",
   "execution_count": 128,
   "metadata": {},
   "outputs": [],
   "source": [
    "source = pd.DataFrame({\n",
    "  'x': x,\n",
    "  'y': y\n",
    "})"
   ]
  },
  {
   "cell_type": "code",
   "execution_count": 129,
   "metadata": {},
   "outputs": [
    {
     "data": {
      "text/html": [
       "<div>\n",
       "<style scoped>\n",
       "    .dataframe tbody tr th:only-of-type {\n",
       "        vertical-align: middle;\n",
       "    }\n",
       "\n",
       "    .dataframe tbody tr th {\n",
       "        vertical-align: top;\n",
       "    }\n",
       "\n",
       "    .dataframe thead th {\n",
       "        text-align: right;\n",
       "    }\n",
       "</style>\n",
       "<table border=\"1\" class=\"dataframe\">\n",
       "  <thead>\n",
       "    <tr style=\"text-align: right;\">\n",
       "      <th></th>\n",
       "      <th>x</th>\n",
       "      <th>y</th>\n",
       "    </tr>\n",
       "  </thead>\n",
       "  <tbody>\n",
       "    <tr>\n",
       "      <th>0</th>\n",
       "      <td>-10.0</td>\n",
       "      <td>0.000000</td>\n",
       "    </tr>\n",
       "    <tr>\n",
       "      <th>1</th>\n",
       "      <td>-9.9</td>\n",
       "      <td>1.410674</td>\n",
       "    </tr>\n",
       "    <tr>\n",
       "      <th>2</th>\n",
       "      <td>-9.8</td>\n",
       "      <td>1.989975</td>\n",
       "    </tr>\n",
       "    <tr>\n",
       "      <th>3</th>\n",
       "      <td>-9.7</td>\n",
       "      <td>2.431049</td>\n",
       "    </tr>\n",
       "    <tr>\n",
       "      <th>4</th>\n",
       "      <td>-9.6</td>\n",
       "      <td>2.800000</td>\n",
       "    </tr>\n",
       "    <tr>\n",
       "      <th>...</th>\n",
       "      <td>...</td>\n",
       "      <td>...</td>\n",
       "    </tr>\n",
       "    <tr>\n",
       "      <th>397</th>\n",
       "      <td>-9.6</td>\n",
       "      <td>-2.800000</td>\n",
       "    </tr>\n",
       "    <tr>\n",
       "      <th>398</th>\n",
       "      <td>-9.7</td>\n",
       "      <td>-2.431049</td>\n",
       "    </tr>\n",
       "    <tr>\n",
       "      <th>399</th>\n",
       "      <td>-9.8</td>\n",
       "      <td>-1.989975</td>\n",
       "    </tr>\n",
       "    <tr>\n",
       "      <th>400</th>\n",
       "      <td>-9.9</td>\n",
       "      <td>-1.410674</td>\n",
       "    </tr>\n",
       "    <tr>\n",
       "      <th>401</th>\n",
       "      <td>-10.0</td>\n",
       "      <td>-0.000001</td>\n",
       "    </tr>\n",
       "  </tbody>\n",
       "</table>\n",
       "<p>402 rows × 2 columns</p>\n",
       "</div>"
      ],
      "text/plain": [
       "        x         y\n",
       "0   -10.0  0.000000\n",
       "1    -9.9  1.410674\n",
       "2    -9.8  1.989975\n",
       "3    -9.7  2.431049\n",
       "4    -9.6  2.800000\n",
       "..    ...       ...\n",
       "397  -9.6 -2.800000\n",
       "398  -9.7 -2.431049\n",
       "399  -9.8 -1.989975\n",
       "400  -9.9 -1.410674\n",
       "401 -10.0 -0.000001\n",
       "\n",
       "[402 rows x 2 columns]"
      ]
     },
     "execution_count": 129,
     "metadata": {},
     "output_type": "execute_result"
    }
   ],
   "source": [
    "source"
   ]
  },
  {
   "cell_type": "code",
   "execution_count": 130,
   "metadata": {},
   "outputs": [
    {
     "data": {
      "text/html": [
       "\n",
       "<div id=\"altair-viz-5943b750de9c481db945ad03e12fef2b\"></div>\n",
       "<script type=\"text/javascript\">\n",
       "  (function(spec, embedOpt){\n",
       "    let outputDiv = document.currentScript.previousElementSibling;\n",
       "    if (outputDiv.id !== \"altair-viz-5943b750de9c481db945ad03e12fef2b\") {\n",
       "      outputDiv = document.getElementById(\"altair-viz-5943b750de9c481db945ad03e12fef2b\");\n",
       "    }\n",
       "    const paths = {\n",
       "      \"vega\": \"https://cdn.jsdelivr.net/npm//vega@5?noext\",\n",
       "      \"vega-lib\": \"https://cdn.jsdelivr.net/npm//vega-lib?noext\",\n",
       "      \"vega-lite\": \"https://cdn.jsdelivr.net/npm//vega-lite@4.8.1?noext\",\n",
       "      \"vega-embed\": \"https://cdn.jsdelivr.net/npm//vega-embed@6?noext\",\n",
       "    };\n",
       "\n",
       "    function loadScript(lib) {\n",
       "      return new Promise(function(resolve, reject) {\n",
       "        var s = document.createElement('script');\n",
       "        s.src = paths[lib];\n",
       "        s.async = true;\n",
       "        s.onload = () => resolve(paths[lib]);\n",
       "        s.onerror = () => reject(`Error loading script: ${paths[lib]}`);\n",
       "        document.getElementsByTagName(\"head\")[0].appendChild(s);\n",
       "      });\n",
       "    }\n",
       "\n",
       "    function showError(err) {\n",
       "      outputDiv.innerHTML = `<div class=\"error\" style=\"color:red;\">${err}</div>`;\n",
       "      throw err;\n",
       "    }\n",
       "\n",
       "    function displayChart(vegaEmbed) {\n",
       "      vegaEmbed(outputDiv, spec, embedOpt)\n",
       "        .catch(err => showError(`Javascript Error: ${err.message}<br>This usually means there's a typo in your chart specification. See the javascript console for the full traceback.`));\n",
       "    }\n",
       "\n",
       "    if(typeof define === \"function\" && define.amd) {\n",
       "      requirejs.config({paths});\n",
       "      require([\"vega-embed\"], displayChart, err => showError(`Error loading script: ${err.message}`));\n",
       "    } else if (typeof vegaEmbed === \"function\") {\n",
       "      displayChart(vegaEmbed);\n",
       "    } else {\n",
       "      loadScript(\"vega\")\n",
       "        .then(() => loadScript(\"vega-lite\"))\n",
       "        .then(() => loadScript(\"vega-embed\"))\n",
       "        .catch(showError)\n",
       "        .then(() => displayChart(vegaEmbed));\n",
       "    }\n",
       "  })({\"config\": {\"view\": {\"continuousWidth\": 400, \"continuousHeight\": 300}}, \"data\": {\"name\": \"data-d60cba3f06f17d0bfc82f17e6ce5e347\"}, \"mark\": {\"type\": \"line\", \"point\": true}, \"encoding\": {\"x\": {\"type\": \"quantitative\", \"field\": \"x\", \"scale\": {\"domain\": [-12, 12]}, \"sort\": [false]}, \"y\": {\"type\": \"quantitative\", \"field\": \"y\", \"scale\": {\"domain\": [-12, 12]}}}, \"height\": 500, \"width\": 520, \"$schema\": \"https://vega.github.io/schema/vega-lite/v4.8.1.json\", \"datasets\": {\"data-d60cba3f06f17d0bfc82f17e6ce5e347\": [{\"x\": -10.0, \"y\": 0.0}, {\"x\": -9.9, \"y\": 1.4106735979665865}, {\"x\": -9.8, \"y\": 1.9899748742132348}, {\"x\": -9.700000000000001, \"y\": 2.43104915622864}, {\"x\": -9.600000000000001, \"y\": 2.7999999999999954}, {\"x\": -9.500000000000002, \"y\": 3.1224989991991947}, {\"x\": -9.400000000000002, \"y\": 3.41174442184639}, {\"x\": -9.300000000000002, \"y\": 3.6755951898978143}, {\"x\": -9.200000000000003, \"y\": 3.9191835884530777}, {\"x\": -9.100000000000003, \"y\": 4.146082488325569}, {\"x\": -9.000000000000004, \"y\": 4.358898943540665}, {\"x\": -8.900000000000004, \"y\": 4.559605246071192}, {\"x\": -8.800000000000004, \"y\": 4.74973683481516}, {\"x\": -8.700000000000005, \"y\": 4.930517214248412}, {\"x\": -8.600000000000005, \"y\": 5.102940328869222}, {\"x\": -8.500000000000005, \"y\": 5.267826876426361}, {\"x\": -8.400000000000006, \"y\": 5.425863986500205}, {\"x\": -8.300000000000006, \"y\": 5.577633906953727}, {\"x\": -8.200000000000006, \"y\": 5.723635208501665}, {\"x\": -8.100000000000007, \"y\": 5.86429876455829}, {\"x\": -8.000000000000007, \"y\": 5.99999999999999}, {\"x\": -7.9000000000000075, \"y\": 6.131068422387723}, {\"x\": -7.800000000000008, \"y\": 6.257795138864797}, {\"x\": -7.700000000000008, \"y\": 6.3804388563796985}, {\"x\": -7.6000000000000085, \"y\": 6.499230723708758}, {\"x\": -7.500000000000009, \"y\": 6.614378277661467}, {\"x\": -7.400000000000009, \"y\": 6.726068688320084}, {\"x\": -7.30000000000001, \"y\": 6.8344714499367}, {\"x\": -7.20000000000001, \"y\": 6.939740629158979}, {\"x\": -7.10000000000001, \"y\": 7.042016756583291}, {\"x\": -7.000000000000011, \"y\": 7.14142842854284}, {\"x\": -6.900000000000011, \"y\": 7.238093671679018}, {\"x\": -6.800000000000011, \"y\": 7.332121111929334}, {\"x\": -6.700000000000012, \"y\": 7.423610981186975}, {\"x\": -6.600000000000012, \"y\": 7.512655988397169}, {\"x\": -6.500000000000012, \"y\": 7.599342076785321}, {\"x\": -6.400000000000013, \"y\": 7.683749084919408}, {\"x\": -6.300000000000013, \"y\": 7.7659513261415585}, {\"x\": -6.2000000000000135, \"y\": 7.846018098373202}, {\"x\": -6.100000000000014, \"y\": 7.924014134263001}, {\"x\": -6.000000000000014, \"y\": 7.999999999999989}, {\"x\": -5.900000000000015, \"y\": 8.07403244977377}, {\"x\": -5.800000000000015, \"y\": 8.14616474176651}, {\"x\": -5.700000000000015, \"y\": 8.216446920658578}, {\"x\": -5.600000000000016, \"y\": 8.28492607088318}, {\"x\": -5.500000000000016, \"y\": 8.351646544245023}, {\"x\": -5.400000000000016, \"y\": 8.416650165000314}, {\"x\": -5.300000000000017, \"y\": 8.479976415061532}, {\"x\": -5.200000000000017, \"y\": 8.541662601625038}, {\"x\": -5.100000000000017, \"y\": 8.601744009211146}, {\"x\": -5.000000000000018, \"y\": 8.660254037844377}, {\"x\": -4.900000000000018, \"y\": 8.717224328878993}, {\"x\": -4.8000000000000185, \"y\": 8.772684879784514}, {\"x\": -4.700000000000019, \"y\": 8.826664149042934}, {\"x\": -4.600000000000019, \"y\": 8.879189152169236}, {\"x\": -4.5000000000000195, \"y\": 8.930285549745866}, {\"x\": -4.40000000000002, \"y\": 8.97997772825745}, {\"x\": -4.30000000000002, \"y\": 9.028288874421323}, {\"x\": -4.200000000000021, \"y\": 9.075241043630733}, {\"x\": -4.100000000000021, \"y\": 9.120855223058845}, {\"x\": -4.000000000000021, \"y\": 9.16515138991167}, {\"x\": -3.9000000000000217, \"y\": 9.208148565265432}, {\"x\": -3.800000000000022, \"y\": 9.249864863877733}, {\"x\": -3.7000000000000224, \"y\": 9.290317540321205}, {\"x\": -3.6000000000000227, \"y\": 9.329523031752473}, {\"x\": -3.500000000000023, \"y\": 9.36749699759759}, {\"x\": -3.4000000000000234, \"y\": 9.40425435640699}, {\"x\": -3.300000000000024, \"y\": 9.439809320108106}, {\"x\": -3.200000000000024, \"y\": 9.4741754258616}, {\"x\": -3.1000000000000245, \"y\": 9.507365565707456}, {\"x\": -3.000000000000025, \"y\": 9.539392014169449}, {\"x\": -2.9000000000000252, \"y\": 9.570266453970854}, {\"x\": -2.8000000000000256, \"y\": 9.599999999999993}, {\"x\": -2.700000000000026, \"y\": 9.628603221651616}, {\"x\": -2.6000000000000263, \"y\": 9.656086163658642}, {\"x\": -2.5000000000000266, \"y\": 9.682458365518535}, {\"x\": -2.400000000000027, \"y\": 9.70772887960927}, {\"x\": -2.3000000000000274, \"y\": 9.73190628808148}, {\"x\": -2.2000000000000277, \"y\": 9.754998718605753}, {\"x\": -2.100000000000028, \"y\": 9.777013859047141}, {\"x\": -2.0000000000000284, \"y\": 9.797958971132706}, {\"x\": -1.9000000000000288, \"y\": 9.817840903172137}, {\"x\": -1.8000000000000291, \"y\": 9.836666101886344}, {\"x\": -1.7000000000000295, \"y\": 9.8544406233941}, {\"x\": -1.6000000000000298, \"y\": 9.871170143402448}, {\"x\": -1.5000000000000302, \"y\": 9.88685996664259}, {\"x\": -1.4000000000000306, \"y\": 9.901515035589247}, {\"x\": -1.300000000000031, \"y\": 9.91513993849809}, {\"x\": -1.2000000000000313, \"y\": 9.927738916792682}, {\"x\": -1.1000000000000316, \"y\": 9.939315871829406}, {\"x\": -1.000000000000032, \"y\": 9.949874371066196}, {\"x\": -0.9000000000000323, \"y\": 9.959417653658267}, {\"x\": -0.8000000000000327, \"y\": 9.967948635501687}, {\"x\": -0.700000000000033, \"y\": 9.97546991374341}, {\"x\": -0.6000000000000334, \"y\": 9.981983770774223}, {\"x\": -0.5000000000000338, \"y\": 9.987492177719089}, {\"x\": -0.4000000000000341, \"y\": 9.991996797437436}, {\"x\": -0.30000000000003446, \"y\": 9.995498987044117}, {\"x\": -0.20000000000003482, \"y\": 9.997999799959988}, {\"x\": -0.10000000000003517, \"y\": 9.999499987499375}, {\"x\": -3.552713678800501e-14, \"y\": 10.0}, {\"x\": 0.09999999999996412, \"y\": 9.999499987499375}, {\"x\": 0.19999999999996376, \"y\": 9.99799979995999}, {\"x\": 0.2999999999999634, \"y\": 9.99549898704412}, {\"x\": 0.39999999999996305, \"y\": 9.991996797437439}, {\"x\": 0.4999999999999627, \"y\": 9.987492177719092}, {\"x\": 0.5999999999999623, \"y\": 9.981983770774226}, {\"x\": 0.699999999999962, \"y\": 9.975469913743414}, {\"x\": 0.7999999999999616, \"y\": 9.967948635501692}, {\"x\": 0.8999999999999613, \"y\": 9.959417653658273}, {\"x\": 0.9999999999999609, \"y\": 9.949874371066203}, {\"x\": 1.0999999999999606, \"y\": 9.939315871829413}, {\"x\": 1.1999999999999602, \"y\": 9.927738916792691}, {\"x\": 1.2999999999999599, \"y\": 9.9151399384981}, {\"x\": 1.3999999999999595, \"y\": 9.901515035589258}, {\"x\": 1.4999999999999591, \"y\": 9.8868599666426}, {\"x\": 1.5999999999999588, \"y\": 9.871170143402459}, {\"x\": 1.6999999999999584, \"y\": 9.854440623394112}, {\"x\": 1.799999999999958, \"y\": 9.836666101886358}, {\"x\": 1.8999999999999577, \"y\": 9.81784090317215}, {\"x\": 1.9999999999999574, \"y\": 9.79795897113272}, {\"x\": 2.099999999999957, \"y\": 9.777013859047157}, {\"x\": 2.1999999999999567, \"y\": 9.75499871860577}, {\"x\": 2.2999999999999563, \"y\": 9.731906288081499}, {\"x\": 2.399999999999956, \"y\": 9.707728879609288}, {\"x\": 2.4999999999999556, \"y\": 9.682458365518555}, {\"x\": 2.5999999999999552, \"y\": 9.65608616365866}, {\"x\": 2.699999999999955, \"y\": 9.628603221651636}, {\"x\": 2.7999999999999545, \"y\": 9.600000000000014}, {\"x\": 2.899999999999954, \"y\": 9.570266453970875}, {\"x\": 2.999999999999954, \"y\": 9.539392014169472}, {\"x\": 3.0999999999999535, \"y\": 9.50736556570748}, {\"x\": 3.199999999999953, \"y\": 9.474175425861626}, {\"x\": 3.2999999999999527, \"y\": 9.43980932010813}, {\"x\": 3.3999999999999524, \"y\": 9.404254356407016}, {\"x\": 3.499999999999952, \"y\": 9.367496997597616}, {\"x\": 3.5999999999999517, \"y\": 9.3295230317525}, {\"x\": 3.6999999999999513, \"y\": 9.290317540321233}, {\"x\": 3.799999999999951, \"y\": 9.249864863877763}, {\"x\": 3.8999999999999506, \"y\": 9.208148565265462}, {\"x\": 3.9999999999999503, \"y\": 9.165151389911701}, {\"x\": 4.09999999999995, \"y\": 9.120855223058877}, {\"x\": 4.1999999999999496, \"y\": 9.075241043630765}, {\"x\": 4.299999999999949, \"y\": 9.028288874421357}, {\"x\": 4.399999999999949, \"y\": 8.979977728257484}, {\"x\": 4.4999999999999485, \"y\": 8.930285549745902}, {\"x\": 4.599999999999948, \"y\": 8.879189152169271}, {\"x\": 4.699999999999948, \"y\": 8.826664149042973}, {\"x\": 4.799999999999947, \"y\": 8.772684879784553}, {\"x\": 4.899999999999947, \"y\": 8.717224328879034}, {\"x\": 4.999999999999947, \"y\": 8.660254037844417}, {\"x\": 5.099999999999946, \"y\": 8.601744009211187}, {\"x\": 5.199999999999946, \"y\": 8.541662601625083}, {\"x\": 5.299999999999946, \"y\": 8.479976415061577}, {\"x\": 5.399999999999945, \"y\": 8.41665016500036}, {\"x\": 5.499999999999945, \"y\": 8.35164654424507}, {\"x\": 5.599999999999945, \"y\": 8.284926070883229}, {\"x\": 5.699999999999944, \"y\": 8.216446920658628}, {\"x\": 5.799999999999944, \"y\": 8.14616474176656}, {\"x\": 5.8999999999999435, \"y\": 8.074032449773823}, {\"x\": 5.999999999999943, \"y\": 8.000000000000043}, {\"x\": 6.099999999999945, \"y\": 7.9240141342630555}, {\"x\": 6.1999999999999424, \"y\": 7.846018098373258}, {\"x\": 6.29999999999994, \"y\": 7.765951326141618}, {\"x\": 6.399999999999942, \"y\": 7.683749084919467}, {\"x\": 6.499999999999943, \"y\": 7.599342076785381}, {\"x\": 6.599999999999941, \"y\": 7.512655988397231}, {\"x\": 6.699999999999939, \"y\": 7.423610981187041}, {\"x\": 6.79999999999994, \"y\": 7.3321211119294}, {\"x\": 6.899999999999942, \"y\": 7.238093671679084}, {\"x\": 6.99999999999994, \"y\": 7.141428428542909}, {\"x\": 7.0999999999999375, \"y\": 7.042016756583364}, {\"x\": 7.199999999999939, \"y\": 6.939740629159052}, {\"x\": 7.29999999999994, \"y\": 6.834471449936775}, {\"x\": 7.399999999999938, \"y\": 6.726068688320162}, {\"x\": 7.499999999999936, \"y\": 6.614378277661549}, {\"x\": 7.5999999999999375, \"y\": 6.499230723708841}, {\"x\": 7.699999999999939, \"y\": 6.380438856379782}, {\"x\": 7.799999999999937, \"y\": 6.257795138864885}, {\"x\": 7.899999999999935, \"y\": 6.131068422387817}, {\"x\": 7.999999999999936, \"y\": 6.000000000000085}, {\"x\": 8.099999999999937, \"y\": 5.864298764558386}, {\"x\": 8.199999999999935, \"y\": 5.723635208501766}, {\"x\": 8.299999999999933, \"y\": 5.577633906953835}, {\"x\": 8.399999999999935, \"y\": 5.425863986500315}, {\"x\": 8.499999999999936, \"y\": 5.267826876426472}, {\"x\": 8.599999999999934, \"y\": 5.102940328869342}, {\"x\": 8.699999999999932, \"y\": 4.93051721424854}, {\"x\": 8.799999999999933, \"y\": 4.749736834815291}, {\"x\": 8.899999999999935, \"y\": 4.559605246071326}, {\"x\": 8.999999999999932, \"y\": 4.3588989435408125}, {\"x\": 9.09999999999993, \"y\": 4.146082488325728}, {\"x\": 9.199999999999932, \"y\": 3.919183588453244}, {\"x\": 9.299999999999933, \"y\": 3.67559518989799}, {\"x\": 9.399999999999931, \"y\": 3.4117444218465858}, {\"x\": 9.499999999999929, \"y\": 3.1224989991994154}, {\"x\": 9.59999999999993, \"y\": 2.800000000000239}, {\"x\": 9.699999999999932, \"y\": 2.431049156228915}, {\"x\": 9.79999999999993, \"y\": 1.9899748742135848}, {\"x\": 9.899999999999928, \"y\": 1.4106735979670955}, {\"x\": 9.999999999999929, \"y\": 1.1920928955078125e-06}, {\"x\": 10.0, \"y\": -0.0}, {\"x\": 9.9, \"y\": -1.4106735979665865}, {\"x\": 9.8, \"y\": -1.9899748742132348}, {\"x\": 9.700000000000001, \"y\": -2.43104915622864}, {\"x\": 9.600000000000001, \"y\": -2.7999999999999954}, {\"x\": 9.500000000000002, \"y\": -3.1224989991991947}, {\"x\": 9.400000000000002, \"y\": -3.41174442184639}, {\"x\": 9.300000000000002, \"y\": -3.6755951898978143}, {\"x\": 9.200000000000003, \"y\": -3.9191835884530777}, {\"x\": 9.100000000000003, \"y\": -4.146082488325569}, {\"x\": 9.000000000000004, \"y\": -4.358898943540665}, {\"x\": 8.900000000000004, \"y\": -4.559605246071192}, {\"x\": 8.800000000000004, \"y\": -4.74973683481516}, {\"x\": 8.700000000000005, \"y\": -4.930517214248412}, {\"x\": 8.600000000000005, \"y\": -5.102940328869222}, {\"x\": 8.500000000000005, \"y\": -5.267826876426361}, {\"x\": 8.400000000000006, \"y\": -5.425863986500205}, {\"x\": 8.300000000000006, \"y\": -5.577633906953727}, {\"x\": 8.200000000000006, \"y\": -5.723635208501665}, {\"x\": 8.100000000000007, \"y\": -5.86429876455829}, {\"x\": 8.000000000000007, \"y\": -5.99999999999999}, {\"x\": 7.9000000000000075, \"y\": -6.131068422387723}, {\"x\": 7.800000000000008, \"y\": -6.257795138864797}, {\"x\": 7.700000000000008, \"y\": -6.3804388563796985}, {\"x\": 7.6000000000000085, \"y\": -6.499230723708758}, {\"x\": 7.500000000000009, \"y\": -6.614378277661467}, {\"x\": 7.400000000000009, \"y\": -6.726068688320084}, {\"x\": 7.30000000000001, \"y\": -6.8344714499367}, {\"x\": 7.20000000000001, \"y\": -6.939740629158979}, {\"x\": 7.10000000000001, \"y\": -7.042016756583291}, {\"x\": 7.000000000000011, \"y\": -7.14142842854284}, {\"x\": 6.900000000000011, \"y\": -7.238093671679018}, {\"x\": 6.800000000000011, \"y\": -7.332121111929334}, {\"x\": 6.700000000000012, \"y\": -7.423610981186975}, {\"x\": 6.600000000000012, \"y\": -7.512655988397169}, {\"x\": 6.500000000000012, \"y\": -7.599342076785321}, {\"x\": 6.400000000000013, \"y\": -7.683749084919408}, {\"x\": 6.300000000000013, \"y\": -7.7659513261415585}, {\"x\": 6.2000000000000135, \"y\": -7.846018098373202}, {\"x\": 6.100000000000014, \"y\": -7.924014134263001}, {\"x\": 6.000000000000014, \"y\": -7.999999999999989}, {\"x\": 5.900000000000015, \"y\": -8.07403244977377}, {\"x\": 5.800000000000015, \"y\": -8.14616474176651}, {\"x\": 5.700000000000015, \"y\": -8.216446920658578}, {\"x\": 5.600000000000016, \"y\": -8.28492607088318}, {\"x\": 5.500000000000016, \"y\": -8.351646544245023}, {\"x\": 5.400000000000016, \"y\": -8.416650165000314}, {\"x\": 5.300000000000017, \"y\": -8.479976415061532}, {\"x\": 5.200000000000017, \"y\": -8.541662601625038}, {\"x\": 5.100000000000017, \"y\": -8.601744009211146}, {\"x\": 5.000000000000018, \"y\": -8.660254037844377}, {\"x\": 4.900000000000018, \"y\": -8.717224328878993}, {\"x\": 4.8000000000000185, \"y\": -8.772684879784514}, {\"x\": 4.700000000000019, \"y\": -8.826664149042934}, {\"x\": 4.600000000000019, \"y\": -8.879189152169236}, {\"x\": 4.5000000000000195, \"y\": -8.930285549745866}, {\"x\": 4.40000000000002, \"y\": -8.97997772825745}, {\"x\": 4.30000000000002, \"y\": -9.028288874421323}, {\"x\": 4.200000000000021, \"y\": -9.075241043630733}, {\"x\": 4.100000000000021, \"y\": -9.120855223058845}, {\"x\": 4.000000000000021, \"y\": -9.16515138991167}, {\"x\": 3.9000000000000217, \"y\": -9.208148565265432}, {\"x\": 3.800000000000022, \"y\": -9.249864863877733}, {\"x\": 3.7000000000000224, \"y\": -9.290317540321205}, {\"x\": 3.6000000000000227, \"y\": -9.329523031752473}, {\"x\": 3.500000000000023, \"y\": -9.36749699759759}, {\"x\": 3.4000000000000234, \"y\": -9.40425435640699}, {\"x\": 3.300000000000024, \"y\": -9.439809320108106}, {\"x\": 3.200000000000024, \"y\": -9.4741754258616}, {\"x\": 3.1000000000000245, \"y\": -9.507365565707456}, {\"x\": 3.000000000000025, \"y\": -9.539392014169449}, {\"x\": 2.9000000000000252, \"y\": -9.570266453970854}, {\"x\": 2.8000000000000256, \"y\": -9.599999999999993}, {\"x\": 2.700000000000026, \"y\": -9.628603221651616}, {\"x\": 2.6000000000000263, \"y\": -9.656086163658642}, {\"x\": 2.5000000000000266, \"y\": -9.682458365518535}, {\"x\": 2.400000000000027, \"y\": -9.70772887960927}, {\"x\": 2.3000000000000274, \"y\": -9.73190628808148}, {\"x\": 2.2000000000000277, \"y\": -9.754998718605753}, {\"x\": 2.100000000000028, \"y\": -9.777013859047141}, {\"x\": 2.0000000000000284, \"y\": -9.797958971132706}, {\"x\": 1.9000000000000288, \"y\": -9.817840903172137}, {\"x\": 1.8000000000000291, \"y\": -9.836666101886344}, {\"x\": 1.7000000000000295, \"y\": -9.8544406233941}, {\"x\": 1.6000000000000298, \"y\": -9.871170143402448}, {\"x\": 1.5000000000000302, \"y\": -9.88685996664259}, {\"x\": 1.4000000000000306, \"y\": -9.901515035589247}, {\"x\": 1.300000000000031, \"y\": -9.91513993849809}, {\"x\": 1.2000000000000313, \"y\": -9.927738916792682}, {\"x\": 1.1000000000000316, \"y\": -9.939315871829406}, {\"x\": 1.000000000000032, \"y\": -9.949874371066196}, {\"x\": 0.9000000000000323, \"y\": -9.959417653658267}, {\"x\": 0.8000000000000327, \"y\": -9.967948635501687}, {\"x\": 0.700000000000033, \"y\": -9.97546991374341}, {\"x\": 0.6000000000000334, \"y\": -9.981983770774223}, {\"x\": 0.5000000000000338, \"y\": -9.987492177719089}, {\"x\": 0.4000000000000341, \"y\": -9.991996797437436}, {\"x\": 0.30000000000003446, \"y\": -9.995498987044117}, {\"x\": 0.20000000000003482, \"y\": -9.997999799959988}, {\"x\": 0.10000000000003517, \"y\": -9.999499987499375}, {\"x\": 3.552713678800501e-14, \"y\": -10.0}, {\"x\": -0.09999999999996412, \"y\": -9.999499987499375}, {\"x\": -0.19999999999996376, \"y\": -9.99799979995999}, {\"x\": -0.2999999999999634, \"y\": -9.99549898704412}, {\"x\": -0.39999999999996305, \"y\": -9.991996797437439}, {\"x\": -0.4999999999999627, \"y\": -9.987492177719092}, {\"x\": -0.5999999999999623, \"y\": -9.981983770774226}, {\"x\": -0.699999999999962, \"y\": -9.975469913743414}, {\"x\": -0.7999999999999616, \"y\": -9.967948635501692}, {\"x\": -0.8999999999999613, \"y\": -9.959417653658273}, {\"x\": -0.9999999999999609, \"y\": -9.949874371066203}, {\"x\": -1.0999999999999606, \"y\": -9.939315871829413}, {\"x\": -1.1999999999999602, \"y\": -9.927738916792691}, {\"x\": -1.2999999999999599, \"y\": -9.9151399384981}, {\"x\": -1.3999999999999595, \"y\": -9.901515035589258}, {\"x\": -1.4999999999999591, \"y\": -9.8868599666426}, {\"x\": -1.5999999999999588, \"y\": -9.871170143402459}, {\"x\": -1.6999999999999584, \"y\": -9.854440623394112}, {\"x\": -1.799999999999958, \"y\": -9.836666101886358}, {\"x\": -1.8999999999999577, \"y\": -9.81784090317215}, {\"x\": -1.9999999999999574, \"y\": -9.79795897113272}, {\"x\": -2.099999999999957, \"y\": -9.777013859047157}, {\"x\": -2.1999999999999567, \"y\": -9.75499871860577}, {\"x\": -2.2999999999999563, \"y\": -9.731906288081499}, {\"x\": -2.399999999999956, \"y\": -9.707728879609288}, {\"x\": -2.4999999999999556, \"y\": -9.682458365518555}, {\"x\": -2.5999999999999552, \"y\": -9.65608616365866}, {\"x\": -2.699999999999955, \"y\": -9.628603221651636}, {\"x\": -2.7999999999999545, \"y\": -9.600000000000014}, {\"x\": -2.899999999999954, \"y\": -9.570266453970875}, {\"x\": -2.999999999999954, \"y\": -9.539392014169472}, {\"x\": -3.0999999999999535, \"y\": -9.50736556570748}, {\"x\": -3.199999999999953, \"y\": -9.474175425861626}, {\"x\": -3.2999999999999527, \"y\": -9.43980932010813}, {\"x\": -3.3999999999999524, \"y\": -9.404254356407016}, {\"x\": -3.499999999999952, \"y\": -9.367496997597616}, {\"x\": -3.5999999999999517, \"y\": -9.3295230317525}, {\"x\": -3.6999999999999513, \"y\": -9.290317540321233}, {\"x\": -3.799999999999951, \"y\": -9.249864863877763}, {\"x\": -3.8999999999999506, \"y\": -9.208148565265462}, {\"x\": -3.9999999999999503, \"y\": -9.165151389911701}, {\"x\": -4.09999999999995, \"y\": -9.120855223058877}, {\"x\": -4.1999999999999496, \"y\": -9.075241043630765}, {\"x\": -4.299999999999949, \"y\": -9.028288874421357}, {\"x\": -4.399999999999949, \"y\": -8.979977728257484}, {\"x\": -4.4999999999999485, \"y\": -8.930285549745902}, {\"x\": -4.599999999999948, \"y\": -8.879189152169271}, {\"x\": -4.699999999999948, \"y\": -8.826664149042973}, {\"x\": -4.799999999999947, \"y\": -8.772684879784553}, {\"x\": -4.899999999999947, \"y\": -8.717224328879034}, {\"x\": -4.999999999999947, \"y\": -8.660254037844417}, {\"x\": -5.099999999999946, \"y\": -8.601744009211187}, {\"x\": -5.199999999999946, \"y\": -8.541662601625083}, {\"x\": -5.299999999999946, \"y\": -8.479976415061577}, {\"x\": -5.399999999999945, \"y\": -8.41665016500036}, {\"x\": -5.499999999999945, \"y\": -8.35164654424507}, {\"x\": -5.599999999999945, \"y\": -8.284926070883229}, {\"x\": -5.699999999999944, \"y\": -8.216446920658628}, {\"x\": -5.799999999999944, \"y\": -8.14616474176656}, {\"x\": -5.8999999999999435, \"y\": -8.074032449773823}, {\"x\": -5.999999999999943, \"y\": -8.000000000000043}, {\"x\": -6.099999999999945, \"y\": -7.9240141342630555}, {\"x\": -6.1999999999999424, \"y\": -7.846018098373258}, {\"x\": -6.29999999999994, \"y\": -7.765951326141618}, {\"x\": -6.399999999999942, \"y\": -7.683749084919467}, {\"x\": -6.499999999999943, \"y\": -7.599342076785381}, {\"x\": -6.599999999999941, \"y\": -7.512655988397231}, {\"x\": -6.699999999999939, \"y\": -7.423610981187041}, {\"x\": -6.79999999999994, \"y\": -7.3321211119294}, {\"x\": -6.899999999999942, \"y\": -7.238093671679084}, {\"x\": -6.99999999999994, \"y\": -7.141428428542909}, {\"x\": -7.0999999999999375, \"y\": -7.042016756583364}, {\"x\": -7.199999999999939, \"y\": -6.939740629159052}, {\"x\": -7.29999999999994, \"y\": -6.834471449936775}, {\"x\": -7.399999999999938, \"y\": -6.726068688320162}, {\"x\": -7.499999999999936, \"y\": -6.614378277661549}, {\"x\": -7.5999999999999375, \"y\": -6.499230723708841}, {\"x\": -7.699999999999939, \"y\": -6.380438856379782}, {\"x\": -7.799999999999937, \"y\": -6.257795138864885}, {\"x\": -7.899999999999935, \"y\": -6.131068422387817}, {\"x\": -7.999999999999936, \"y\": -6.000000000000085}, {\"x\": -8.099999999999937, \"y\": -5.864298764558386}, {\"x\": -8.199999999999935, \"y\": -5.723635208501766}, {\"x\": -8.299999999999933, \"y\": -5.577633906953835}, {\"x\": -8.399999999999935, \"y\": -5.425863986500315}, {\"x\": -8.499999999999936, \"y\": -5.267826876426472}, {\"x\": -8.599999999999934, \"y\": -5.102940328869342}, {\"x\": -8.699999999999932, \"y\": -4.93051721424854}, {\"x\": -8.799999999999933, \"y\": -4.749736834815291}, {\"x\": -8.899999999999935, \"y\": -4.559605246071326}, {\"x\": -8.999999999999932, \"y\": -4.3588989435408125}, {\"x\": -9.09999999999993, \"y\": -4.146082488325728}, {\"x\": -9.199999999999932, \"y\": -3.919183588453244}, {\"x\": -9.299999999999933, \"y\": -3.67559518989799}, {\"x\": -9.399999999999931, \"y\": -3.4117444218465858}, {\"x\": -9.499999999999929, \"y\": -3.1224989991994154}, {\"x\": -9.59999999999993, \"y\": -2.800000000000239}, {\"x\": -9.699999999999932, \"y\": -2.431049156228915}, {\"x\": -9.79999999999993, \"y\": -1.9899748742135848}, {\"x\": -9.899999999999928, \"y\": -1.4106735979670955}, {\"x\": -9.999999999999929, \"y\": -1.1920928955078125e-06}]}}, {\"mode\": \"vega-lite\"});\n",
       "</script>"
      ],
      "text/plain": [
       "alt.Chart(...)"
      ]
     },
     "execution_count": 130,
     "metadata": {},
     "output_type": "execute_result"
    }
   ],
   "source": [
    "a = alt.Chart(source).mark_line(point=True).encode(\n",
    "    alt.X('x',\n",
    "        scale=alt.Scale(domain=(-12, 12)),\n",
    "        sort=[False],\n",
    "    ),\n",
    "    alt.Y('y',\n",
    "        scale=alt.Scale(domain=(-12, 12)),\n",
    "    ),\n",
    ")\n",
    "a.properties(height=500, width=520)"
   ]
  },
  {
   "cell_type": "code",
   "execution_count": null,
   "metadata": {},
   "outputs": [],
   "source": []
  }
 ],
 "metadata": {
  "kernelspec": {
   "display_name": "Python 3",
   "language": "python",
   "name": "python3"
  },
  "language_info": {
   "codemirror_mode": {
    "name": "ipython",
    "version": 3
   },
   "file_extension": ".py",
   "mimetype": "text/x-python",
   "name": "python",
   "nbconvert_exporter": "python",
   "pygments_lexer": "ipython3",
   "version": "3.7.4"
  }
 },
 "nbformat": 4,
 "nbformat_minor": 2
}
