{
 "cells": [
  {
   "cell_type": "code",
   "execution_count": 1,
   "metadata": {
    "collapsed": true
   },
   "outputs": [],
   "source": [
    "import random\n",
    "import timeit\n",
    "from collections.abc import Sequence\n",
    "import pandas as pd"
   ]
  },
  {
   "cell_type": "code",
   "execution_count": 2,
   "metadata": {
    "collapsed": true
   },
   "outputs": [],
   "source": [
    "%matplotlib inline\n",
    "import seaborn as sns\n",
    "import matplotlib.pyplot as plt"
   ]
  },
  {
   "cell_type": "markdown",
   "metadata": {},
   "source": [
    "On a hunch, I made two separate cases in this implementation of _mean_. I wanted to support any iterable, which the second case does. But, if we have a _len_ method, we can use the built-in _sum_ function."
   ]
  },
  {
   "cell_type": "code",
   "execution_count": 3,
   "metadata": {
    "collapsed": true
   },
   "outputs": [],
   "source": [
    "def mean(a):\n",
    "    if isinstance(a, Sequence):\n",
    "        return sum(a)/float(len(a))\n",
    "    else:\n",
    "        s = n = 0\n",
    "        for x in a:\n",
    "            s += x\n",
    "            n += 1\n",
    "        return s/float(n)"
   ]
  },
  {
   "cell_type": "markdown",
   "metadata": {},
   "source": [
    "1st case"
   ]
  },
  {
   "cell_type": "code",
   "execution_count": 4,
   "metadata": {},
   "outputs": [
    {
     "data": {
      "text/plain": [
       "0.5010230416561832"
      ]
     },
     "execution_count": 4,
     "metadata": {},
     "output_type": "execute_result"
    }
   ],
   "source": [
    "mean([random.random() for i in range(100000)])"
   ]
  },
  {
   "cell_type": "markdown",
   "metadata": {},
   "source": [
    "2nd case"
   ]
  },
  {
   "cell_type": "code",
   "execution_count": 5,
   "metadata": {},
   "outputs": [
    {
     "data": {
      "text/plain": [
       "0.4990815515554537"
      ]
     },
     "execution_count": 5,
     "metadata": {},
     "output_type": "execute_result"
    }
   ],
   "source": [
    "mean(random.random() for i in range(100000))"
   ]
  },
  {
   "cell_type": "markdown",
   "metadata": {},
   "source": [
    "But, is it really worth it to have a separate implementation of the mean function for [Sequences](https://docs.python.org/3/library/collections.abc.html)? Let's try it and see."
   ]
  },
  {
   "cell_type": "code",
   "execution_count": 6,
   "metadata": {
    "collapsed": true
   },
   "outputs": [],
   "source": [
    "def mean_loop(a):\n",
    "    s = n = 0\n",
    "    for x in a:\n",
    "        s += x\n",
    "        n += 1\n",
    "    return s/float(n)\n",
    "\n",
    "def mean_seq(a):\n",
    "    return sum(a)/float(len(a))"
   ]
  },
  {
   "cell_type": "code",
   "execution_count": 7,
   "metadata": {
    "collapsed": true
   },
   "outputs": [],
   "source": [
    "n=1000\n",
    "sizes = [1000,2000,3000,5000,10000,20000,50000,70000,100000]\n",
    "cases = [('loop',  'mean_loop(a)'),\n",
    "         ('sum',   'mean_seq(a)'),\n",
    "         ('if',    'mean(a)')]\n",
    "df = pd.DataFrame(index=sizes, columns=('sizes',)+tuple(key for key,cmd in cases))\n",
    "df.sizes = sizes"
   ]
  },
  {
   "cell_type": "markdown",
   "metadata": {},
   "source": [
    "Now, time a bunch of runs of the mean function on sequences of different sizes. This takes 30 seconds or so."
   ]
  },
  {
   "cell_type": "code",
   "execution_count": 8,
   "metadata": {},
   "outputs": [
    {
     "data": {
      "text/html": [
       "<div>\n",
       "<table border=\"1\" class=\"dataframe\">\n",
       "  <thead>\n",
       "    <tr style=\"text-align: right;\">\n",
       "      <th></th>\n",
       "      <th>sizes</th>\n",
       "      <th>loop</th>\n",
       "      <th>sum</th>\n",
       "      <th>if</th>\n",
       "    </tr>\n",
       "  </thead>\n",
       "  <tbody>\n",
       "    <tr>\n",
       "      <th>1000</th>\n",
       "      <td>1000</td>\n",
       "      <td>0.0921272</td>\n",
       "      <td>0.00600786</td>\n",
       "      <td>0.00690552</td>\n",
       "    </tr>\n",
       "    <tr>\n",
       "      <th>2000</th>\n",
       "      <td>2000</td>\n",
       "      <td>0.192143</td>\n",
       "      <td>0.011381</td>\n",
       "      <td>0.0122312</td>\n",
       "    </tr>\n",
       "    <tr>\n",
       "      <th>3000</th>\n",
       "      <td>3000</td>\n",
       "      <td>0.271834</td>\n",
       "      <td>0.0170192</td>\n",
       "      <td>0.0208895</td>\n",
       "    </tr>\n",
       "    <tr>\n",
       "      <th>5000</th>\n",
       "      <td>5000</td>\n",
       "      <td>0.46201</td>\n",
       "      <td>0.033739</td>\n",
       "      <td>0.0492685</td>\n",
       "    </tr>\n",
       "    <tr>\n",
       "      <th>10000</th>\n",
       "      <td>10000</td>\n",
       "      <td>1.13335</td>\n",
       "      <td>0.078896</td>\n",
       "      <td>0.0770089</td>\n",
       "    </tr>\n",
       "    <tr>\n",
       "      <th>20000</th>\n",
       "      <td>20000</td>\n",
       "      <td>2.35542</td>\n",
       "      <td>0.10861</td>\n",
       "      <td>0.110705</td>\n",
       "    </tr>\n",
       "    <tr>\n",
       "      <th>50000</th>\n",
       "      <td>50000</td>\n",
       "      <td>4.60694</td>\n",
       "      <td>0.258446</td>\n",
       "      <td>0.270928</td>\n",
       "    </tr>\n",
       "    <tr>\n",
       "      <th>70000</th>\n",
       "      <td>70000</td>\n",
       "      <td>7.27327</td>\n",
       "      <td>0.56273</td>\n",
       "      <td>0.544876</td>\n",
       "    </tr>\n",
       "    <tr>\n",
       "      <th>100000</th>\n",
       "      <td>100000</td>\n",
       "      <td>10.0002</td>\n",
       "      <td>0.555258</td>\n",
       "      <td>0.606015</td>\n",
       "    </tr>\n",
       "  </tbody>\n",
       "</table>\n",
       "</div>"
      ],
      "text/plain": [
       "         sizes       loop         sum          if\n",
       "1000      1000  0.0921272  0.00600786  0.00690552\n",
       "2000      2000   0.192143    0.011381   0.0122312\n",
       "3000      3000   0.271834   0.0170192   0.0208895\n",
       "5000      5000    0.46201    0.033739   0.0492685\n",
       "10000    10000    1.13335    0.078896   0.0770089\n",
       "20000    20000    2.35542     0.10861    0.110705\n",
       "50000    50000    4.60694    0.258446    0.270928\n",
       "70000    70000    7.27327     0.56273    0.544876\n",
       "100000  100000    10.0002    0.555258    0.606015"
      ]
     },
     "execution_count": 8,
     "metadata": {},
     "output_type": "execute_result"
    }
   ],
   "source": [
    "for size in sizes:\n",
    "    a = tuple(random.random() for i in range(size))\n",
    "    for key, cmd in cases:\n",
    "        t = timeit.timeit(cmd, number=n, globals=globals())\n",
    "        df.set_value(size, key, t)\n",
    "df"
   ]
  },
  {
   "cell_type": "code",
   "execution_count": 9,
   "metadata": {},
   "outputs": [
    {
     "data": {
      "text/plain": [
       "<matplotlib.legend.Legend at 0x1135551d0>"
      ]
     },
     "execution_count": 9,
     "metadata": {},
     "output_type": "execute_result"
    },
    {
     "data": {
      "image/png": "[encoded data removed]",
      "text/plain": [
       "<matplotlib.figure.Figure at 0x113299978>"
      ]
     },
     "metadata": {},
     "output_type": "display_data"
    }
   ],
   "source": [
    "import seaborn as sns\n",
    "import matplotlib.pyplot as plt\n",
    "ax = sns.regplot(x='sizes', y='loop', data=df, label='loop')\n",
    "ax = sns.regplot(x='sizes', y='sum', data=df, label='sum')\n",
    "ax = sns.regplot(x='sizes', y='if', data=df, label='if')\n",
    "plt.ylabel('seconds')\n",
    "plt.xlabel('sequence length')\n",
    "plt.title('Running time to find mean of a sequence {} times'.format(n))\n",
    "plt.legend(loc='upper left')"
   ]
  },
  {
   "cell_type": "markdown",
   "metadata": {},
   "source": [
    "For non-humongous sizes of sequences, both implementations will be practically instantaneous. But, we do see a substantial speedup percentage-wise, so why not get it if we can. 😁"
   ]
  }
 ],
 "metadata": {
  "kernelspec": {
   "display_name": "Python 3",
   "language": "python",
   "name": "python3"
  },
  "language_info": {
   "codemirror_mode": {
    "name": "ipython",
    "version": 3
   },
   "file_extension": ".py",
   "mimetype": "text/x-python",
   "name": "python",
   "nbconvert_exporter": "python",
   "pygments_lexer": "ipython3",
   "version": "3.6.1"
  }
 },
 "nbformat": 4,
 "nbformat_minor": 2
}
